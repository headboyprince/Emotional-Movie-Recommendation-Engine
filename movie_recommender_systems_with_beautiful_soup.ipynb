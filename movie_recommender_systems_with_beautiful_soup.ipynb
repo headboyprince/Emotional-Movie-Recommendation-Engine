{
  "cells": [
    {
      "cell_type": "markdown",
      "metadata": {
        "id": "view-in-github",
        "colab_type": "text"
      },
      "source": [
        "<a href=\"https://colab.research.google.com/github/headboyprince/Emotional-Movie-Recommendation-Engine/blob/main/movie_recommender_systems_with_beautiful_soup.ipynb\" target=\"_parent\"><img src=\"https://colab.research.google.com/assets/colab-badge.svg\" alt=\"Open In Colab\"/></a>"
      ]
    },
    {
      "cell_type": "markdown",
      "metadata": {
        "id": "lB_Xz8KO99hJ"
      },
      "source": [
        "In this section, we're going to be scraping the movies data that we need for this project. we will scrape the data from the idmb website and store it in a pandas dataframe.\n",
        "\n",
        "We're using the idmb website to scrap the data because it allows us to search movies by their genre and that's what we want... and it also contains 3 genre tag for each movie.. this will make it easy for us to create the emotion based movie recommendation, we'll easily be able to convert the genre into its suitable emotions. More genre == more emotions for us :)\n",
        "\n",
        " while we can definitely scrap more movies, we puporposely stopped at just 100 movies for this project..so it doesnt take take too much time for the code to run...\n",
        "\n",
        " Scraping data from websites allows you to gather fresh, up-to-date information that can be used to make accurate predictions. It's like when you're preparing a dish, you always want your recipes to be fresh, and the same applies when you're working with data. Using outdated data can lead to outdated predictions and this could be detrimental to the accuracy of the recommender system.\n",
        "\n",
        "In other words, data scraping is like going shopping for the ingredients for a recipe. You want to make sure you have all the most recent and fresh ingredients to make the best dish. And in the same way, when building a recommender system, you want to have the most recent and fresh data to make the best predictions."
      ]
    },
    {
      "cell_type": "markdown",
      "metadata": {
        "id": "au7hS35Rn6o3"
      },
      "source": [
        "# SCRAPING THE DATA THAT WE NEED"
      ]
    },
    {
      "cell_type": "code",
      "execution_count": null,
      "metadata": {
        "id": "iDBdRiERMcV6"
      },
      "outputs": [],
      "source": [
        "#@title Importing Required Libraries for Web Scraping\n",
        "\n",
        "import requests\n",
        "from bs4 import BeautifulSoup\n",
        "import pandas as pd\n",
        "import re\n",
        "\n",
        "HEADERS ={\"User-Agent\":\"Mozilla/5.0 (Windows NT 10.0; Win64; x64; rv:66.0) Gecko/20100101 Firefox/66.0\", \"Accept-Encoding\":\"gzip, deflate\", \"Accept\":\"text/html,application/xhtml+xml,application/xml;q=0.9,*/*;q=0.8\", \"DNT\":\"1\",\"Connection\":\"close\", \"Upgrade-Insecure-Requests\":\"1\"}"
      ]
    },
    {
      "cell_type": "markdown",
      "metadata": {
        "id": "AJ6XD20L9VB9"
      },
      "source": []
    },
    {
      "cell_type": "markdown",
      "metadata": {
        "id": "P_Re-YONYxfR"
      },
      "source": [
        "This code imports four modules: requests, BeautifulSoup, pandas`, and re.\n",
        "\n",
        "requests is a Python module that allows you to send HTTP requests using Python. It simplifies the process of working with HTTP requests in Python by providing a higher-level interface than the built-in urllib module.\n",
        "\n",
        "BeautifulSoup is a Python library that is used to parse HTML and XML documents. It allows you to extract data from these documents in a more human-readable and easier-to-manipulate format.\n",
        "\n",
        "pandas is a powerful data analysis library for Python that provides easy-to-use data structures and data analysis tools for handling and manipulating numerical tables and time series data.\n",
        "\n",
        "re is the Python standard library module for working with regular expressions. Regular expressions are a powerful way to search and manipulate text, and the re module provides functions for working with them in Python.\n",
        "\n",
        "The HEADERS variable is a dictionary that contains a set of HTTP headers that will be used in the requests made by the script. HTTP headers allow the client and the server to pass additional information with an HTTP request or response. In this case, the headers are used to specify the user agent (i.e., the browser being used) and to specify various other options related to the request."
      ]
    },
    {
      "cell_type": "code",
      "execution_count": null,
      "metadata": {
        "colab": {
          "base_uri": "https://localhost:8080/"
        },
        "id": "BUNwB7yoTcvM",
        "outputId": "a8710163-2609-4fa9-ae4c-a29e225273bf"
      },
      "outputs": [
        {
          "name": "stdout",
          "output_type": "stream",
          "text": [
            "{'Adventure': 'https://www.imdb.com/search/title/?genres=Adventure&sort=user_rating,desc&title_type=feature&num_votes=25000,&pf_rd_m=A2FGELUUNOQJNL&pf_rd_p=5aab685f-35eb-40f3-95f7-c53f09d542c3&pf_rd_r=N97GEQS6R7J9EV7V770D&pf_rd_s=right-6&pf_rd_t=15506&pf_rd_i=top&ref_=chttp_gnr_16', 'Animation': 'https://www.imdb.com/search/title/?genres=Animation&sort=user_rating,desc&title_type=feature&num_votes=25000,&pf_rd_m=A2FGELUUNOQJNL&pf_rd_p=5aab685f-35eb-40f3-95f7-c53f09d542c3&pf_rd_r=N97GEQS6R7J9EV7V770D&pf_rd_s=right-6&pf_rd_t=15506&pf_rd_i=top&ref_=chttp_gnr_16', 'Biography': 'https://www.imdb.com/search/title/?genres=Biography&sort=user_rating,desc&title_type=feature&num_votes=25000,&pf_rd_m=A2FGELUUNOQJNL&pf_rd_p=5aab685f-35eb-40f3-95f7-c53f09d542c3&pf_rd_r=N97GEQS6R7J9EV7V770D&pf_rd_s=right-6&pf_rd_t=15506&pf_rd_i=top&ref_=chttp_gnr_16', 'Comedy': 'https://www.imdb.com/search/title/?genres=Comedy&sort=user_rating,desc&title_type=feature&num_votes=25000,&pf_rd_m=A2FGELUUNOQJNL&pf_rd_p=5aab685f-35eb-40f3-95f7-c53f09d542c3&pf_rd_r=N97GEQS6R7J9EV7V770D&pf_rd_s=right-6&pf_rd_t=15506&pf_rd_i=top&ref_=chttp_gnr_16', 'Crime': 'https://www.imdb.com/search/title/?genres=Crime&sort=user_rating,desc&title_type=feature&num_votes=25000,&pf_rd_m=A2FGELUUNOQJNL&pf_rd_p=5aab685f-35eb-40f3-95f7-c53f09d542c3&pf_rd_r=N97GEQS6R7J9EV7V770D&pf_rd_s=right-6&pf_rd_t=15506&pf_rd_i=top&ref_=chttp_gnr_16', 'Drama': 'https://www.imdb.com/search/title/?genres=Drama&sort=user_rating,desc&title_type=feature&num_votes=25000,&pf_rd_m=A2FGELUUNOQJNL&pf_rd_p=5aab685f-35eb-40f3-95f7-c53f09d542c3&pf_rd_r=N97GEQS6R7J9EV7V770D&pf_rd_s=right-6&pf_rd_t=15506&pf_rd_i=top&ref_=chttp_gnr_16', 'Family': 'https://www.imdb.com/search/title/?genres=Family&sort=user_rating,desc&title_type=feature&num_votes=25000,&pf_rd_m=A2FGELUUNOQJNL&pf_rd_p=5aab685f-35eb-40f3-95f7-c53f09d542c3&pf_rd_r=N97GEQS6R7J9EV7V770D&pf_rd_s=right-6&pf_rd_t=15506&pf_rd_i=top&ref_=chttp_gnr_16', 'Fantasy': 'https://www.imdb.com/search/title/?genres=Fantasy&sort=user_rating,desc&title_type=feature&num_votes=25000,&pf_rd_m=A2FGELUUNOQJNL&pf_rd_p=5aab685f-35eb-40f3-95f7-c53f09d542c3&pf_rd_r=N97GEQS6R7J9EV7V770D&pf_rd_s=right-6&pf_rd_t=15506&pf_rd_i=top&ref_=chttp_gnr_16', 'Film-Noir': 'https://www.imdb.com/search/title/?genres=Film-Noir&sort=user_rating,desc&title_type=feature&num_votes=25000,&pf_rd_m=A2FGELUUNOQJNL&pf_rd_p=5aab685f-35eb-40f3-95f7-c53f09d542c3&pf_rd_r=N97GEQS6R7J9EV7V770D&pf_rd_s=right-6&pf_rd_t=15506&pf_rd_i=top&ref_=chttp_gnr_16', 'History': 'https://www.imdb.com/search/title/?genres=History&sort=user_rating,desc&title_type=feature&num_votes=25000,&pf_rd_m=A2FGELUUNOQJNL&pf_rd_p=5aab685f-35eb-40f3-95f7-c53f09d542c3&pf_rd_r=N97GEQS6R7J9EV7V770D&pf_rd_s=right-6&pf_rd_t=15506&pf_rd_i=top&ref_=chttp_gnr_16', 'Horror': 'https://www.imdb.com/search/title/?genres=Horror&sort=user_rating,desc&title_type=feature&num_votes=25000,&pf_rd_m=A2FGELUUNOQJNL&pf_rd_p=5aab685f-35eb-40f3-95f7-c53f09d542c3&pf_rd_r=N97GEQS6R7J9EV7V770D&pf_rd_s=right-6&pf_rd_t=15506&pf_rd_i=top&ref_=chttp_gnr_16', 'Music': 'https://www.imdb.com/search/title/?genres=Music&sort=user_rating,desc&title_type=feature&num_votes=25000,&pf_rd_m=A2FGELUUNOQJNL&pf_rd_p=5aab685f-35eb-40f3-95f7-c53f09d542c3&pf_rd_r=N97GEQS6R7J9EV7V770D&pf_rd_s=right-6&pf_rd_t=15506&pf_rd_i=top&ref_=chttp_gnr_16', 'Musical': 'https://www.imdb.com/search/title/?genres=Musical&sort=user_rating,desc&title_type=feature&num_votes=25000,&pf_rd_m=A2FGELUUNOQJNL&pf_rd_p=5aab685f-35eb-40f3-95f7-c53f09d542c3&pf_rd_r=N97GEQS6R7J9EV7V770D&pf_rd_s=right-6&pf_rd_t=15506&pf_rd_i=top&ref_=chttp_gnr_16', 'Mystery': 'https://www.imdb.com/search/title/?genres=Mystery&sort=user_rating,desc&title_type=feature&num_votes=25000,&pf_rd_m=A2FGELUUNOQJNL&pf_rd_p=5aab685f-35eb-40f3-95f7-c53f09d542c3&pf_rd_r=N97GEQS6R7J9EV7V770D&pf_rd_s=right-6&pf_rd_t=15506&pf_rd_i=top&ref_=chttp_gnr_16', 'Romance': 'https://www.imdb.com/search/title/?genres=Romance&sort=user_rating,desc&title_type=feature&num_votes=25000,&pf_rd_m=A2FGELUUNOQJNL&pf_rd_p=5aab685f-35eb-40f3-95f7-c53f09d542c3&pf_rd_r=N97GEQS6R7J9EV7V770D&pf_rd_s=right-6&pf_rd_t=15506&pf_rd_i=top&ref_=chttp_gnr_16', 'Sci-Fi': 'https://www.imdb.com/search/title/?genres=Sci-Fi&sort=user_rating,desc&title_type=feature&num_votes=25000,&pf_rd_m=A2FGELUUNOQJNL&pf_rd_p=5aab685f-35eb-40f3-95f7-c53f09d542c3&pf_rd_r=N97GEQS6R7J9EV7V770D&pf_rd_s=right-6&pf_rd_t=15506&pf_rd_i=top&ref_=chttp_gnr_16', 'Sport': 'https://www.imdb.com/search/title/?genres=Sport&sort=user_rating,desc&title_type=feature&num_votes=25000,&pf_rd_m=A2FGELUUNOQJNL&pf_rd_p=5aab685f-35eb-40f3-95f7-c53f09d542c3&pf_rd_r=N97GEQS6R7J9EV7V770D&pf_rd_s=right-6&pf_rd_t=15506&pf_rd_i=top&ref_=chttp_gnr_16', 'Thriller': 'https://www.imdb.com/search/title/?genres=Thriller&sort=user_rating,desc&title_type=feature&num_votes=25000,&pf_rd_m=A2FGELUUNOQJNL&pf_rd_p=5aab685f-35eb-40f3-95f7-c53f09d542c3&pf_rd_r=N97GEQS6R7J9EV7V770D&pf_rd_s=right-6&pf_rd_t=15506&pf_rd_i=top&ref_=chttp_gnr_16', 'War': 'https://www.imdb.com/search/title/?genres=War&sort=user_rating,desc&title_type=feature&num_votes=25000,&pf_rd_m=A2FGELUUNOQJNL&pf_rd_p=5aab685f-35eb-40f3-95f7-c53f09d542c3&pf_rd_r=N97GEQS6R7J9EV7V770D&pf_rd_s=right-6&pf_rd_t=15506&pf_rd_i=top&ref_=chttp_gnr_16', 'Western': 'https://www.imdb.com/search/title/?genres=Western&sort=user_rating,desc&title_type=feature&num_votes=25000,&pf_rd_m=A2FGELUUNOQJNL&pf_rd_p=5aab685f-35eb-40f3-95f7-c53f09d542c3&pf_rd_r=N97GEQS6R7J9EV7V770D&pf_rd_s=right-6&pf_rd_t=15506&pf_rd_i=top&ref_=chttp_gnr_16'}\n"
          ]
        }
      ],
      "source": [
        "#@title Generating URLs for IMDB Movie Genres\n",
        "\n",
        "genres = [\n",
        "    \n",
        "    \"Adventure\",\n",
        "    \"Animation\",\n",
        "    \"Biography\",\n",
        "    \"Comedy\",\n",
        "    \"Crime\",\n",
        "    \"Drama\",\n",
        "    \"Family\",\n",
        "    \"Fantasy\",\n",
        "    \"Film-Noir\",\n",
        "    \"History\",\n",
        "    \"Horror\",\n",
        "    \"Music\",\n",
        "    \"Musical\",\n",
        "    \"Mystery\",\n",
        "    \"Romance\",\n",
        "    \"Sci-Fi\",\n",
        "    \"Sport\",\n",
        "    \"Thriller\",\n",
        "    \"War\",\n",
        "    \"Western\"\n",
        "]\n",
        "\n",
        "url_dict = {}\n",
        "\n",
        "for genre in genres:\n",
        "    url = \"https://www.imdb.com/search/title/?genres={}&sort=user_rating,desc&title_type=feature&num_votes=25000,&pf_rd_m=A2FGELUUNOQJNL&pf_rd_p=5aab685f-35eb-40f3-95f7-c53f09d542c3&pf_rd_r=N97GEQS6R7J9EV7V770D&pf_rd_s=right-6&pf_rd_t=15506&pf_rd_i=top&ref_=chttp_gnr_16\"\n",
        "    formated_url = url.format(genre)\n",
        "    url_dict[genre] = formated_url\n",
        "    \n",
        "print(url_dict)"
      ]
    },
    {
      "cell_type": "code",
      "execution_count": null,
      "metadata": {
        "id": "4p-7PUCooogZ"
      },
      "outputs": [],
      "source": [
        "import requests\n",
        "from bs4 import BeautifulSoup\n",
        "\n",
        "def get_topics_page():\n",
        "    # TODO - add comments\n",
        "    topic_url = 'https://www.imdb.com/search/title/?groups=top_1000&sort=user_rating,desc&count=100&start=000&ref_=adv_next'\n",
        "    response=requests.get(topic_url)\n",
        "    # check successfull response\n",
        "    if response.status_code != 200:\n",
        "        raise Exception(f'Failed to load page {topic_url}')\n",
        "    # Parse using BeautifulSoup\n",
        "    doc = BeautifulSoup(response.text, 'html.parser')\n",
        "    return doc\n",
        "  "
      ]
    },
    {
      "cell_type": "code",
      "execution_count": null,
      "metadata": {
        "id": "veW1O9_8otHv"
      },
      "outputs": [],
      "source": [
        "doc=get_topics_page()"
      ]
    },
    {
      "cell_type": "code",
      "execution_count": null,
      "metadata": {
        "colab": {
          "base_uri": "https://localhost:8080/"
        },
        "id": "Ac5ZgwyioyF2",
        "outputId": "942dba0d-ffdd-46bb-9093-ecca94c482ab"
      },
      "outputs": [
        {
          "data": {
            "text/plain": [
              "['刺激1995', '教父', '黑暗騎士', '辛德勒的名單', '魔戒三部曲：王者再臨']"
            ]
          },
          "execution_count": 5,
          "metadata": {},
          "output_type": "execute_result"
        }
      ],
      "source": [
        "def get_movie_titles(doc):\n",
        "    \n",
        "    selection_class=\"lister-item-header\"\n",
        "    movie_title_tags=doc.find_all('h3',{'class':selection_class})\n",
        "    movie_titles=[]\n",
        "\n",
        "    for tag in movie_title_tags:\n",
        "        title = tag.find('a').text\n",
        "        movie_titles.append(title)\n",
        "        \n",
        "        \n",
        "    return movie_titles\n",
        "titles = get_movie_titles(doc)\n",
        "titles[:5]"
      ]
    },
    {
      "cell_type": "code",
      "execution_count": null,
      "metadata": {
        "colab": {
          "base_uri": "https://localhost:8080/"
        },
        "id": "Ek4gYRPCpQWB",
        "outputId": "11a85134-5a05-42ff-f655-254d0dcd8012"
      },
      "outputs": [
        {
          "data": {
            "text/plain": [
              "['1994', '1972', '2008', '1993', '2003']"
            ]
          },
          "execution_count": 6,
          "metadata": {},
          "output_type": "execute_result"
        }
      ],
      "source": [
        "def get_movie_year(doc):\n",
        "    year_selector = \"lister-item-year text-muted unbold\"           \n",
        "    movie_year_tags=doc.find_all('span',{'class':year_selector})\n",
        "    movie_year_tagss=[]\n",
        "    for tag in movie_year_tags:\n",
        "        movie_year_tagss.append(tag.get_text().strip()[1:5])\n",
        "    return movie_year_tagss\n",
        "years = get_movie_year(doc)\n",
        "years[:5]"
      ]
    },
    {
      "cell_type": "code",
      "execution_count": null,
      "metadata": {
        "colab": {
          "base_uri": "https://localhost:8080/"
        },
        "id": "M1zkDEAnDkF-",
        "outputId": "cf0c50f0-46cd-45fd-f556-5b6853af6070"
      },
      "outputs": [
        {
          "data": {
            "text/plain": [
              "['https://www.imdb.com//title/tt0111161/',\n",
              " 'https://www.imdb.com//title/tt0068646/',\n",
              " 'https://www.imdb.com//title/tt0468569/',\n",
              " 'https://www.imdb.com//title/tt0108052/',\n",
              " 'https://www.imdb.com//title/tt0167260/']"
            ]
          },
          "execution_count": 7,
          "metadata": {},
          "output_type": "execute_result"
        }
      ],
      "source": [
        "def get_movie_url(doc):\n",
        "    url_selector=\"lister-item-header\"           \n",
        "    movie_url_tags=doc.find_all('h3',{'class':url_selector})\n",
        "    movie_url_tagss=[]\n",
        "    base_url = 'https://www.imdb.com/'\n",
        "    for tag in movie_url_tags:\n",
        "        movie_url_tagss.append('https://www.imdb.com/' + tag.find('a')['href'])\n",
        "    return movie_url_tagss\n",
        "\n",
        "urls = get_movie_url(doc)\n",
        "urls[:5]"
      ]
    },
    {
      "cell_type": "code",
      "execution_count": null,
      "metadata": {
        "colab": {
          "base_uri": "https://localhost:8080/"
        },
        "id": "TTpIyxgcD-SV",
        "outputId": "2c93142d-3425-4739-b343-98a6d4af82de"
      },
      "outputs": [
        {
          "data": {
            "text/plain": [
              "['142', '175', '152', '195', '201']"
            ]
          },
          "execution_count": 8,
          "metadata": {},
          "output_type": "execute_result"
        }
      ],
      "source": [
        "def get_movie_duration(doc):\n",
        "    \n",
        "    selection_class=\"runtime\"\n",
        "    movie_duration_tags=doc.find_all('span',{'class':selection_class})\n",
        "    movie_duration=[]\n",
        "\n",
        "    for tag in movie_duration_tags:\n",
        "        duration = tag.text[:-4]\n",
        "        movie_duration.append(duration)\n",
        "        \n",
        "        \n",
        "    return movie_duration\n",
        "durations = get_movie_duration(doc)\n",
        "durations[:5]"
      ]
    },
    {
      "cell_type": "code",
      "execution_count": null,
      "metadata": {
        "colab": {
          "base_uri": "https://localhost:8080/"
        },
        "id": "HdwwyuNoFarh",
        "outputId": "e37d3a0b-3539-489e-f915-7f77e4bcf574"
      },
      "outputs": [
        {
          "data": {
            "text/plain": [
              "['Drama',\n",
              " 'Crime, Drama',\n",
              " 'Action, Crime, Drama',\n",
              " 'Biography, Drama, History',\n",
              " 'Action, Adventure, Drama']"
            ]
          },
          "execution_count": 9,
          "metadata": {},
          "output_type": "execute_result"
        }
      ],
      "source": [
        "def get_movie_genre(doc):\n",
        "    genre_selector=\"genre\"            \n",
        "    movie_genre_tags=doc.find_all('span',{'class':genre_selector})\n",
        "    movie_genre_tagss=[]\n",
        "    for tag in movie_genre_tags:\n",
        "        movie_genre_tagss.append(tag.get_text().strip())\n",
        "    return movie_genre_tagss\n",
        "genres = get_movie_genre(doc)\n",
        "genres[:5]"
      ]
    },
    {
      "cell_type": "code",
      "execution_count": null,
      "metadata": {
        "id": "BQHOf9LsELJM"
      },
      "outputs": [],
      "source": [
        "def all_pages():\n",
        "# Let's we create a dictionary to store data of all movies\n",
        "    movies_dict={\n",
        "        'title':[],\n",
        "        'genre':[],\n",
        "        'duration':[],\n",
        "        'year':[],\n",
        "        'url':[]\n",
        "    }\n",
        "  # We have to scrap more than one page so we want urls of all pages with the help of loop we can get all urls\n",
        "    for i in range(1,2000,100):\n",
        "       \n",
        "        try:\n",
        "            url = 'https://www.imdb.com/search/title/?groups=top_1000&sort=user_rating,desc&count=100&start='+str(i)+'&ref_=adv_next'\n",
        "            response = requests.get(url)\n",
        "        except:\n",
        "            break\n",
        "        \n",
        "        if response.status_code != 200:\n",
        "            break\n",
        "           \n",
        "    # Parse using BeautifulSoup\n",
        "        doc = BeautifulSoup(response.text, 'html.parser')\n",
        "        titles = get_movie_titles(doc)\n",
        "        urls = get_movie_url(doc)\n",
        "        certifications = get_movie_certification(doc)\n",
        "        ratings = get_movie_rating(doc)\n",
        "        durations = get_movie_duration(doc)\n",
        "        years = get_movie_year(doc)\n",
        "        genres = get_movie_genre(doc)\n",
        "    \n",
        "        \n",
        "    # We are adding every movie data to dictionary\n",
        "        for i in range(len(titles)):\n",
        "            movies_dict['title'].append(titles[i])\n",
        "            movies_dict['genre'].append(genres[i])\n",
        "            movies_dict['duration'].append(durations[i])\n",
        "            movies_dict['rating'].append(ratings[i])\n",
        "            movies_dict['year'].append(years[i])\n",
        "            movies_dict['certification'].append(certifications[i])\n",
        "            movies_dict['url'].append(urls[i])\n",
        "        \n",
        "    return pd.DataFrame(movies_dict)\n",
        "  "
      ]
    },
    {
      "cell_type": "code",
      "execution_count": null,
      "metadata": {
        "id": "d00MHQEaEOH3"
      },
      "outputs": [],
      "source": [
        "movies_dict={\n",
        "    'title':titles,\n",
        "    'genre':genres,\n",
        "    'duration':durations,\n",
        "    'year':years,\n",
        "    'url':urls\n",
        "}\n",
        "df = pd.DataFrame(movies_dict)\n"
      ]
    },
    {
      "cell_type": "markdown",
      "metadata": {
        "id": "gep2gX-CaEEy"
      },
      "source": [
        "This code defines a list of movie genres and creates a dictionary of URLs for each genre.\n",
        "\n",
        "The genres list is a list of strings representing different movie genres.\n",
        "\n",
        "The url_dict dictionary is initially empty. The code then iterates over the genres list using a for loop. For each genre, it creates a URL string with a placeholder for the genre. The placeholder is {}, which will be replaced with the actual genre using the format method. The resulting URL is stored in the formated_url variable.\n",
        "\n",
        "Finally, the code adds an entry to the url_dict dictionary with the genre as the key and the formatted URL as the value.\n",
        "\n",
        "At the end of the loop, the url_dict dictionary will contain an entry for each genre in the genres list, with the genre as the key and the corresponding URL as the value.\n",
        "\n",
        "For example, if the genres list contains the values \"Adventure\" and \"Comedy\", the url_dict dictionary will contain the following entries:"
      ]
    },
    {
      "cell_type": "code",
      "execution_count": null,
      "metadata": {
        "colab": {
          "base_uri": "https://localhost:8080/",
          "height": 206
        },
        "id": "u3znTDR7dk2b",
        "outputId": "cfcfa97d-da8c-4bab-9b74-34b5d7ca8e50"
      },
      "outputs": [
        {
          "data": {
            "text/html": [
              "\n",
              "  <div id=\"df-4f3606f1-c5d2-444a-9214-32d22e3aa80d\">\n",
              "    <div class=\"colab-df-container\">\n",
              "      <div>\n",
              "<style scoped>\n",
              "    .dataframe tbody tr th:only-of-type {\n",
              "        vertical-align: middle;\n",
              "    }\n",
              "\n",
              "    .dataframe tbody tr th {\n",
              "        vertical-align: top;\n",
              "    }\n",
              "\n",
              "    .dataframe thead th {\n",
              "        text-align: right;\n",
              "    }\n",
              "</style>\n",
              "<table border=\"1\" class=\"dataframe\">\n",
              "  <thead>\n",
              "    <tr style=\"text-align: right;\">\n",
              "      <th></th>\n",
              "      <th>title</th>\n",
              "      <th>genre</th>\n",
              "      <th>duration</th>\n",
              "      <th>year</th>\n",
              "      <th>url</th>\n",
              "    </tr>\n",
              "  </thead>\n",
              "  <tbody>\n",
              "    <tr>\n",
              "      <th>0</th>\n",
              "      <td>刺激1995</td>\n",
              "      <td>Drama</td>\n",
              "      <td>142</td>\n",
              "      <td>1994</td>\n",
              "      <td>https://www.imdb.com//title/tt0111161/</td>\n",
              "    </tr>\n",
              "    <tr>\n",
              "      <th>1</th>\n",
              "      <td>教父</td>\n",
              "      <td>Crime, Drama</td>\n",
              "      <td>175</td>\n",
              "      <td>1972</td>\n",
              "      <td>https://www.imdb.com//title/tt0068646/</td>\n",
              "    </tr>\n",
              "    <tr>\n",
              "      <th>2</th>\n",
              "      <td>黑暗騎士</td>\n",
              "      <td>Action, Crime, Drama</td>\n",
              "      <td>152</td>\n",
              "      <td>2008</td>\n",
              "      <td>https://www.imdb.com//title/tt0468569/</td>\n",
              "    </tr>\n",
              "    <tr>\n",
              "      <th>3</th>\n",
              "      <td>辛德勒的名單</td>\n",
              "      <td>Biography, Drama, History</td>\n",
              "      <td>195</td>\n",
              "      <td>1993</td>\n",
              "      <td>https://www.imdb.com//title/tt0108052/</td>\n",
              "    </tr>\n",
              "    <tr>\n",
              "      <th>4</th>\n",
              "      <td>魔戒三部曲：王者再臨</td>\n",
              "      <td>Action, Adventure, Drama</td>\n",
              "      <td>201</td>\n",
              "      <td>2003</td>\n",
              "      <td>https://www.imdb.com//title/tt0167260/</td>\n",
              "    </tr>\n",
              "  </tbody>\n",
              "</table>\n",
              "</div>\n",
              "      <button class=\"colab-df-convert\" onclick=\"convertToInteractive('df-4f3606f1-c5d2-444a-9214-32d22e3aa80d')\"\n",
              "              title=\"Convert this dataframe to an interactive table.\"\n",
              "              style=\"display:none;\">\n",
              "        \n",
              "  <svg xmlns=\"http://www.w3.org/2000/svg\" height=\"24px\"viewBox=\"0 0 24 24\"\n",
              "       width=\"24px\">\n",
              "    <path d=\"M0 0h24v24H0V0z\" fill=\"none\"/>\n",
              "    <path d=\"M18.56 5.44l.94 2.06.94-2.06 2.06-.94-2.06-.94-.94-2.06-.94 2.06-2.06.94zm-11 1L8.5 8.5l.94-2.06 2.06-.94-2.06-.94L8.5 2.5l-.94 2.06-2.06.94zm10 10l.94 2.06.94-2.06 2.06-.94-2.06-.94-.94-2.06-.94 2.06-2.06.94z\"/><path d=\"M17.41 7.96l-1.37-1.37c-.4-.4-.92-.59-1.43-.59-.52 0-1.04.2-1.43.59L10.3 9.45l-7.72 7.72c-.78.78-.78 2.05 0 2.83L4 21.41c.39.39.9.59 1.41.59.51 0 1.02-.2 1.41-.59l7.78-7.78 2.81-2.81c.8-.78.8-2.07 0-2.86zM5.41 20L4 18.59l7.72-7.72 1.47 1.35L5.41 20z\"/>\n",
              "  </svg>\n",
              "      </button>\n",
              "      \n",
              "  <style>\n",
              "    .colab-df-container {\n",
              "      display:flex;\n",
              "      flex-wrap:wrap;\n",
              "      gap: 12px;\n",
              "    }\n",
              "\n",
              "    .colab-df-convert {\n",
              "      background-color: #E8F0FE;\n",
              "      border: none;\n",
              "      border-radius: 50%;\n",
              "      cursor: pointer;\n",
              "      display: none;\n",
              "      fill: #1967D2;\n",
              "      height: 32px;\n",
              "      padding: 0 0 0 0;\n",
              "      width: 32px;\n",
              "    }\n",
              "\n",
              "    .colab-df-convert:hover {\n",
              "      background-color: #E2EBFA;\n",
              "      box-shadow: 0px 1px 2px rgba(60, 64, 67, 0.3), 0px 1px 3px 1px rgba(60, 64, 67, 0.15);\n",
              "      fill: #174EA6;\n",
              "    }\n",
              "\n",
              "    [theme=dark] .colab-df-convert {\n",
              "      background-color: #3B4455;\n",
              "      fill: #D2E3FC;\n",
              "    }\n",
              "\n",
              "    [theme=dark] .colab-df-convert:hover {\n",
              "      background-color: #434B5C;\n",
              "      box-shadow: 0px 1px 3px 1px rgba(0, 0, 0, 0.15);\n",
              "      filter: drop-shadow(0px 1px 2px rgba(0, 0, 0, 0.3));\n",
              "      fill: #FFFFFF;\n",
              "    }\n",
              "  </style>\n",
              "\n",
              "      <script>\n",
              "        const buttonEl =\n",
              "          document.querySelector('#df-4f3606f1-c5d2-444a-9214-32d22e3aa80d button.colab-df-convert');\n",
              "        buttonEl.style.display =\n",
              "          google.colab.kernel.accessAllowed ? 'block' : 'none';\n",
              "\n",
              "        async function convertToInteractive(key) {\n",
              "          const element = document.querySelector('#df-4f3606f1-c5d2-444a-9214-32d22e3aa80d');\n",
              "          const dataTable =\n",
              "            await google.colab.kernel.invokeFunction('convertToInteractive',\n",
              "                                                     [key], {});\n",
              "          if (!dataTable) return;\n",
              "\n",
              "          const docLinkHtml = 'Like what you see? Visit the ' +\n",
              "            '<a target=\"_blank\" href=https://colab.research.google.com/notebooks/data_table.ipynb>data table notebook</a>'\n",
              "            + ' to learn more about interactive tables.';\n",
              "          element.innerHTML = '';\n",
              "          dataTable['output_type'] = 'display_data';\n",
              "          await google.colab.output.renderOutput(dataTable, element);\n",
              "          const docLink = document.createElement('div');\n",
              "          docLink.innerHTML = docLinkHtml;\n",
              "          element.appendChild(docLink);\n",
              "        }\n",
              "      </script>\n",
              "    </div>\n",
              "  </div>\n",
              "  "
            ],
            "text/plain": [
              "        title                      genre duration  year  \\\n",
              "0      刺激1995                      Drama      142  1994   \n",
              "1          教父               Crime, Drama      175  1972   \n",
              "2        黑暗騎士       Action, Crime, Drama      152  2008   \n",
              "3      辛德勒的名單  Biography, Drama, History      195  1993   \n",
              "4  魔戒三部曲：王者再臨   Action, Adventure, Drama      201  2003   \n",
              "\n",
              "                                      url  \n",
              "0  https://www.imdb.com//title/tt0111161/  \n",
              "1  https://www.imdb.com//title/tt0068646/  \n",
              "2  https://www.imdb.com//title/tt0468569/  \n",
              "3  https://www.imdb.com//title/tt0108052/  \n",
              "4  https://www.imdb.com//title/tt0167260/  "
            ]
          },
          "execution_count": 12,
          "metadata": {},
          "output_type": "execute_result"
        }
      ],
      "source": [
        "df = pd.DataFrame(movies_dict)\n",
        "df.head()"
      ]
    },
    {
      "cell_type": "code",
      "execution_count": null,
      "metadata": {
        "colab": {
          "base_uri": "https://localhost:8080/",
          "height": 1000
        },
        "id": "FGt6jtIGytQL",
        "outputId": "b7dd029b-be61-41aa-c44e-dfcb6d98e1cc"
      },
      "outputs": [
        {
          "name": "stdout",
          "output_type": "stream",
          "text": [
            "        title                      genre duration  year  \\\n",
            "0      刺激1995                      Drama      142  1994   \n",
            "1          教父               Crime, Drama      175  1972   \n",
            "2        黑暗騎士       Action, Crime, Drama      152  2008   \n",
            "3      辛德勒的名單  Biography, Drama, History      195  1993   \n",
            "4  魔戒三部曲：王者再臨   Action, Adventure, Drama      201  2003   \n",
            "\n",
            "                                      url  \n",
            "0  https://www.imdb.com//title/tt0111161/  \n",
            "1  https://www.imdb.com//title/tt0068646/  \n",
            "2  https://www.imdb.com//title/tt0468569/  \n",
            "3  https://www.imdb.com//title/tt0108052/  \n",
            "4  https://www.imdb.com//title/tt0167260/  \n",
            "         title  genre duration  year                                     url\n",
            "count      100    100      100   100                                     100\n",
            "unique     100     52       65    52                                     100\n",
            "top     刺激1995  Drama      164  1994  https://www.imdb.com//title/tt0111161/\n",
            "freq         1      7        4     5                                       1\n",
            "Drama                           7\n",
            "Crime, Drama                    6\n",
            "Action, Adventure, Drama        6\n",
            "Crime, Drama, Mystery           5\n",
            "Action, Drama                   4\n",
            "Drama, Romance                  4\n",
            "Crime, Drama, Thriller          4\n",
            "Action, Drama, Mystery          3\n",
            "Comedy, Drama, Romance          3\n",
            "Drama, War                      3\n",
            "Biography, Drama, History       3\n",
            "Action, Crime, Drama            3\n",
            "Action, Adventure, Sci-Fi       3\n",
            "Animation, Adventure, Family    2\n",
            "Biography, Drama, Music         2\n",
            "Animation, Action, Adventure    2\n",
            "Biography, Crime, Drama         2\n",
            "Mystery, Thriller               2\n",
            "Action, Adventure, Fantasy      2\n",
            "Action, Sci-Fi                  2\n",
            "Animation, Drama, War           1\n",
            "Drama, Mystery, Thriller        1\n",
            "Animation, Drama, Fantasy       1\n",
            "Action, Biography, Drama        1\n",
            "Comedy, Drama, War              1\n",
            "Comedy, Drama                   1\n",
            "Drama, Thriller, War            1\n",
            "Animation, Adventure, Comedy    1\n",
            "Comedy, War                     1\n",
            "Drama, Horror                   1\n",
            "Drama, Western                  1\n",
            "Action, Adventure               1\n",
            "Action, Adventure, Crime        1\n",
            "Drama, Film-Noir                1\n",
            "Drama, Mystery, Sci-Fi          1\n",
            "Drama, Romance, War             1\n",
            "Drama, Music                    1\n",
            "Adventure, Comedy, Drama        1\n",
            "Adventure, Western              1\n",
            "Biography, Drama                1\n",
            "Adventure, Drama, Sci-Fi        1\n",
            "Crime, Drama, Fantasy           1\n",
            "Drama, Family, Fantasy          1\n",
            "Drama, Thriller                 1\n",
            "Horror, Mystery, Thriller       1\n",
            "Drama, Mystery, War             1\n",
            "Horror, Sci-Fi                  1\n",
            "Adventure, Comedy, Sci-Fi       1\n",
            "Animation, Adventure, Drama     1\n",
            "Biography, Comedy, Drama        1\n",
            "Western                         1\n",
            "Adventure, Drama, War           1\n",
            "Name: genre, dtype: int64\n"
          ]
        },
        {
          "ename": "KeyError",
          "evalue": "ignored",
          "output_type": "error",
          "traceback": [
            "\u001b[0;31m---------------------------------------------------------------------------\u001b[0m",
            "\u001b[0;31mKeyError\u001b[0m                                  Traceback (most recent call last)",
            "\u001b[0;32m/usr/local/lib/python3.8/dist-packages/pandas/core/indexes/base.py\u001b[0m in \u001b[0;36mget_loc\u001b[0;34m(self, key, method, tolerance)\u001b[0m\n\u001b[1;32m   3360\u001b[0m             \u001b[0;32mtry\u001b[0m\u001b[0;34m:\u001b[0m\u001b[0;34m\u001b[0m\u001b[0;34m\u001b[0m\u001b[0m\n\u001b[0;32m-> 3361\u001b[0;31m                 \u001b[0;32mreturn\u001b[0m \u001b[0mself\u001b[0m\u001b[0;34m.\u001b[0m\u001b[0m_engine\u001b[0m\u001b[0;34m.\u001b[0m\u001b[0mget_loc\u001b[0m\u001b[0;34m(\u001b[0m\u001b[0mcasted_key\u001b[0m\u001b[0;34m)\u001b[0m\u001b[0;34m\u001b[0m\u001b[0;34m\u001b[0m\u001b[0m\n\u001b[0m\u001b[1;32m   3362\u001b[0m             \u001b[0;32mexcept\u001b[0m \u001b[0mKeyError\u001b[0m \u001b[0;32mas\u001b[0m \u001b[0merr\u001b[0m\u001b[0;34m:\u001b[0m\u001b[0;34m\u001b[0m\u001b[0;34m\u001b[0m\u001b[0m\n",
            "\u001b[0;32m/usr/local/lib/python3.8/dist-packages/pandas/_libs/index.pyx\u001b[0m in \u001b[0;36mpandas._libs.index.IndexEngine.get_loc\u001b[0;34m()\u001b[0m\n",
            "\u001b[0;32m/usr/local/lib/python3.8/dist-packages/pandas/_libs/index.pyx\u001b[0m in \u001b[0;36mpandas._libs.index.IndexEngine.get_loc\u001b[0;34m()\u001b[0m\n",
            "\u001b[0;32mpandas/_libs/hashtable_class_helper.pxi\u001b[0m in \u001b[0;36mpandas._libs.hashtable.PyObjectHashTable.get_item\u001b[0;34m()\u001b[0m\n",
            "\u001b[0;32mpandas/_libs/hashtable_class_helper.pxi\u001b[0m in \u001b[0;36mpandas._libs.hashtable.PyObjectHashTable.get_item\u001b[0;34m()\u001b[0m\n",
            "\u001b[0;31mKeyError\u001b[0m: 'rating'",
            "\nThe above exception was the direct cause of the following exception:\n",
            "\u001b[0;31mKeyError\u001b[0m                                  Traceback (most recent call last)",
            "\u001b[0;32m<ipython-input-14-c5667e615378>\u001b[0m in \u001b[0;36m<module>\u001b[0;34m\u001b[0m\n\u001b[1;32m     15\u001b[0m \u001b[0;34m\u001b[0m\u001b[0m\n\u001b[1;32m     16\u001b[0m \u001b[0;31m# Visualize the distribution of the 'rating' column\u001b[0m\u001b[0;34m\u001b[0m\u001b[0;34m\u001b[0m\u001b[0;34m\u001b[0m\u001b[0m\n\u001b[0;32m---> 17\u001b[0;31m \u001b[0msns\u001b[0m\u001b[0;34m.\u001b[0m\u001b[0mdistplot\u001b[0m\u001b[0;34m(\u001b[0m\u001b[0mdf\u001b[0m\u001b[0;34m[\u001b[0m\u001b[0;34m'rating'\u001b[0m\u001b[0;34m]\u001b[0m\u001b[0;34m)\u001b[0m\u001b[0;34m\u001b[0m\u001b[0;34m\u001b[0m\u001b[0m\n\u001b[0m\u001b[1;32m     18\u001b[0m \u001b[0mplt\u001b[0m\u001b[0;34m.\u001b[0m\u001b[0mshow\u001b[0m\u001b[0;34m(\u001b[0m\u001b[0;34m)\u001b[0m\u001b[0;34m\u001b[0m\u001b[0;34m\u001b[0m\u001b[0m\n\u001b[1;32m     19\u001b[0m \u001b[0;34m\u001b[0m\u001b[0m\n",
            "\u001b[0;32m/usr/local/lib/python3.8/dist-packages/pandas/core/frame.py\u001b[0m in \u001b[0;36m__getitem__\u001b[0;34m(self, key)\u001b[0m\n\u001b[1;32m   3456\u001b[0m             \u001b[0;32mif\u001b[0m \u001b[0mself\u001b[0m\u001b[0;34m.\u001b[0m\u001b[0mcolumns\u001b[0m\u001b[0;34m.\u001b[0m\u001b[0mnlevels\u001b[0m \u001b[0;34m>\u001b[0m \u001b[0;36m1\u001b[0m\u001b[0;34m:\u001b[0m\u001b[0;34m\u001b[0m\u001b[0;34m\u001b[0m\u001b[0m\n\u001b[1;32m   3457\u001b[0m                 \u001b[0;32mreturn\u001b[0m \u001b[0mself\u001b[0m\u001b[0;34m.\u001b[0m\u001b[0m_getitem_multilevel\u001b[0m\u001b[0;34m(\u001b[0m\u001b[0mkey\u001b[0m\u001b[0;34m)\u001b[0m\u001b[0;34m\u001b[0m\u001b[0;34m\u001b[0m\u001b[0m\n\u001b[0;32m-> 3458\u001b[0;31m             \u001b[0mindexer\u001b[0m \u001b[0;34m=\u001b[0m \u001b[0mself\u001b[0m\u001b[0;34m.\u001b[0m\u001b[0mcolumns\u001b[0m\u001b[0;34m.\u001b[0m\u001b[0mget_loc\u001b[0m\u001b[0;34m(\u001b[0m\u001b[0mkey\u001b[0m\u001b[0;34m)\u001b[0m\u001b[0;34m\u001b[0m\u001b[0;34m\u001b[0m\u001b[0m\n\u001b[0m\u001b[1;32m   3459\u001b[0m             \u001b[0;32mif\u001b[0m \u001b[0mis_integer\u001b[0m\u001b[0;34m(\u001b[0m\u001b[0mindexer\u001b[0m\u001b[0;34m)\u001b[0m\u001b[0;34m:\u001b[0m\u001b[0;34m\u001b[0m\u001b[0;34m\u001b[0m\u001b[0m\n\u001b[1;32m   3460\u001b[0m                 \u001b[0mindexer\u001b[0m \u001b[0;34m=\u001b[0m \u001b[0;34m[\u001b[0m\u001b[0mindexer\u001b[0m\u001b[0;34m]\u001b[0m\u001b[0;34m\u001b[0m\u001b[0;34m\u001b[0m\u001b[0m\n",
            "\u001b[0;32m/usr/local/lib/python3.8/dist-packages/pandas/core/indexes/base.py\u001b[0m in \u001b[0;36mget_loc\u001b[0;34m(self, key, method, tolerance)\u001b[0m\n\u001b[1;32m   3361\u001b[0m                 \u001b[0;32mreturn\u001b[0m \u001b[0mself\u001b[0m\u001b[0;34m.\u001b[0m\u001b[0m_engine\u001b[0m\u001b[0;34m.\u001b[0m\u001b[0mget_loc\u001b[0m\u001b[0;34m(\u001b[0m\u001b[0mcasted_key\u001b[0m\u001b[0;34m)\u001b[0m\u001b[0;34m\u001b[0m\u001b[0;34m\u001b[0m\u001b[0m\n\u001b[1;32m   3362\u001b[0m             \u001b[0;32mexcept\u001b[0m \u001b[0mKeyError\u001b[0m \u001b[0;32mas\u001b[0m \u001b[0merr\u001b[0m\u001b[0;34m:\u001b[0m\u001b[0;34m\u001b[0m\u001b[0;34m\u001b[0m\u001b[0m\n\u001b[0;32m-> 3363\u001b[0;31m                 \u001b[0;32mraise\u001b[0m \u001b[0mKeyError\u001b[0m\u001b[0;34m(\u001b[0m\u001b[0mkey\u001b[0m\u001b[0;34m)\u001b[0m \u001b[0;32mfrom\u001b[0m \u001b[0merr\u001b[0m\u001b[0;34m\u001b[0m\u001b[0;34m\u001b[0m\u001b[0m\n\u001b[0m\u001b[1;32m   3364\u001b[0m \u001b[0;34m\u001b[0m\u001b[0m\n\u001b[1;32m   3365\u001b[0m         \u001b[0;32mif\u001b[0m \u001b[0mis_scalar\u001b[0m\u001b[0;34m(\u001b[0m\u001b[0mkey\u001b[0m\u001b[0;34m)\u001b[0m \u001b[0;32mand\u001b[0m \u001b[0misna\u001b[0m\u001b[0;34m(\u001b[0m\u001b[0mkey\u001b[0m\u001b[0;34m)\u001b[0m \u001b[0;32mand\u001b[0m \u001b[0;32mnot\u001b[0m \u001b[0mself\u001b[0m\u001b[0;34m.\u001b[0m\u001b[0mhasnans\u001b[0m\u001b[0;34m:\u001b[0m\u001b[0;34m\u001b[0m\u001b[0;34m\u001b[0m\u001b[0m\n",
            "\u001b[0;31mKeyError\u001b[0m: 'rating'"
          ]
        }
      ],
      "source": [
        "import pandas as pd\n",
        "import matplotlib.pyplot as plt\n",
        "import seaborn as sns\n",
        "\n",
        "\n",
        "\n",
        "# Get the first few rows of the dataframe\n",
        "print(df.head())\n",
        "\n",
        "# Get summary statistics of the numerical columns\n",
        "print(df.describe())\n",
        "\n",
        "# Get the count of unique values in the categorical columns\n",
        "print(df['genre'].value_counts())\n",
        "\n",
        "# Visualize the distribution of the 'rating' column\n",
        "sns.distplot(df['rating'])\n",
        "plt.show()\n",
        "\n",
        "# Group the data by the 'year' column and compute the mean rating for each group\n",
        "yearly_ratings = df.groupby('year')['rating'].mean()\n",
        "print(yearly_ratings)\n",
        "\n",
        "# Plot the yearly ratings\n",
        "yearly_ratings.plot()\n",
        "plt.show()\n",
        "\n",
        "# Compute the pairwise correlations between the numerical columns\n",
        "corr = df.corr()\n",
        "print(corr)\n",
        "\n",
        "# Visualize the correlations using a heatmap\n",
        "sns.heatmap(corr)\n",
        "plt.show()\n"
      ]
    },
    {
      "cell_type": "code",
      "execution_count": null,
      "metadata": {
        "colab": {
          "base_uri": "https://localhost:8080/"
        },
        "id": "woD1EYyp1JoY",
        "outputId": "2912dd10-4bd9-4953-cef2-1308262429bc"
      },
      "outputs": [
        {
          "name": "stdout",
          "output_type": "stream",
          "text": [
            "Empty DataFrame\n",
            "Columns: [title, genre, duration, year, url]\n",
            "Index: []\n"
          ]
        }
      ],
      "source": [
        "# Find rows with missing values\n",
        "print(df[df.isnull().any(axis=1)])\n"
      ]
    },
    {
      "cell_type": "code",
      "execution_count": null,
      "metadata": {
        "id": "cFUv_5Hty7mG"
      },
      "outputs": [],
      "source": []
    },
    {
      "cell_type": "code",
      "execution_count": null,
      "metadata": {
        "colab": {
          "background_save": true
        },
        "id": "CN2AErA3eq72"
      },
      "outputs": [],
      "source": [
        "import sqlite3\n",
        "import pandas as pd\n",
        "\n",
        "# Connect to the database\n",
        "conn = sqlite3.connect('scraped_movies_data.db')\n",
        "\n",
        "# Save the dataframe to the database\n",
        "df.to_sql('movies', conn, if_exists='replace', index=False)\n",
        "\n",
        "# Close the connection\n",
        "conn.close()\n"
      ]
    },
    {
      "cell_type": "code",
      "execution_count": null,
      "metadata": {
        "id": "psDJTn7EfwlG"
      },
      "outputs": [],
      "source": [
        "# Connect to the database\n",
        "import sqlite3\n",
        "import pandas as pd\n",
        "conn = sqlite3.connect('scraped_movies_data.db')\n",
        "\n",
        "# Query the database\n",
        "cursor = conn.cursor()\n",
        "cursor.execute('SELECT * FROM movies')\n",
        "\n",
        "# Fetch and print the results\n",
        "results = cursor.fetchall()\n",
        "print(results)\n",
        "\n",
        "# Close the connection\n",
        "conn.close()\n"
      ]
    },
    {
      "cell_type": "markdown",
      "metadata": {
        "id": "4U-4t_zNfN6F"
      },
      "source": [
        "This code creates a Pandas DataFrame called df from the movies_dict dictionary and prints the first five rows of the DataFrame using the head method.\n",
        "\n",
        "The resulting DataFrame will contain the data of all movies that were scraped from the IMDb website, including the movie title, genre, duration, rating, year of release, certification, and URL of each movie. The rows of the DataFrame represent individual movies, and the columns represent the different types of data.\n",
        "\n",
        "The head method prints the first five rows of the DataFrame by default. You can pass a different number as an argument to print a different number of rows. For example, df.head(10) would print the first ten rows of the DataFrame."
      ]
    },
    {
      "cell_type": "markdown",
      "metadata": {
        "id": "Q1LLppimfNwz"
      },
      "source": []
    },
    {
      "cell_type": "code",
      "execution_count": null,
      "metadata": {
        "id": "xFT7eFAMylcD"
      },
      "outputs": [],
      "source": []
    },
    {
      "cell_type": "markdown",
      "metadata": {
        "id": "sl2Qyfc6n12b"
      },
      "source": [
        "# CLEANING THE DATA"
      ]
    },
    {
      "cell_type": "markdown",
      "metadata": {
        "id": "l_LVkl2zKAhg"
      },
      "source": [
        "Now here is where the dirty work is going to begin... we need to clean the data so we can pass it into a machine learning model. if there is any odd value in the data, it wont be able to create the model we want to build. by Cleaning we're getting rid of unwanted values, and breaking up columns into the kind of data that we can then use to train our model.. Sure, data cleaning can be thought of as preparing a chicken you just killed for cooking. Just as you would clean and prepare a chicken before cooking it, you would also clean and prepare your data before using it in a machine learning model or for analysis.\n",
        "\n",
        "For example, in the code you provided, the data is being scraped from IMDB and then being modified so that it can be passed into the model. This is similar to removing the feathers, innards and any unwanted parts of the chicken before cooking. The cleaning process includes removing spaces from the genre column, converting the genre column into a matrix format, converting the duration column to numeric values, and removing any non-numeric values in the year column. This is similar to cutting and cleaning the chicken to your desired size and shape before cooking. The cleaned data is then being saved to a SQLite database for future use, similar to storing the cleaned chicken in the refrigerator before cooking.\n",
        "\n",
        "Overall, data cleaning is an important step in the process of preparing data for analysis and machine learning model, just as preparing a chicken before cooking is important in making a delicious chicken pepper soup. Without proper cleaning and preparing, the final result (chicken pepper soup) may not turn out as desired.\n",
        "\n",
        "---\n",
        "\n",
        "\n",
        "\n",
        "---\n",
        "\n"
      ]
    },
    {
      "cell_type": "code",
      "execution_count": null,
      "metadata": {
        "colab": {
          "background_save": true
        },
        "id": "USkX7CX2Kr2t",
        "outputId": "0fa213c1-9247-4135-caba-e59451d12fcc"
      },
      "outputs": [
        {
          "data": {
            "text/html": [
              "\n",
              "  <div id=\"df-176c6d09-d1c0-49a9-a9e7-dcb86f02a303\">\n",
              "    <div class=\"colab-df-container\">\n",
              "      <div>\n",
              "<style scoped>\n",
              "    .dataframe tbody tr th:only-of-type {\n",
              "        vertical-align: middle;\n",
              "    }\n",
              "\n",
              "    .dataframe tbody tr th {\n",
              "        vertical-align: top;\n",
              "    }\n",
              "\n",
              "    .dataframe thead th {\n",
              "        text-align: right;\n",
              "    }\n",
              "</style>\n",
              "<table border=\"1\" class=\"dataframe\">\n",
              "  <thead>\n",
              "    <tr style=\"text-align: right;\">\n",
              "      <th></th>\n",
              "      <th>title</th>\n",
              "      <th>genre</th>\n",
              "      <th>duration</th>\n",
              "      <th>year</th>\n",
              "      <th>url</th>\n",
              "    </tr>\n",
              "  </thead>\n",
              "  <tbody>\n",
              "    <tr>\n",
              "      <th>0</th>\n",
              "      <td>刺激1995</td>\n",
              "      <td>Drama</td>\n",
              "      <td>142</td>\n",
              "      <td>1994</td>\n",
              "      <td>https://www.imdb.com//title/tt0111161/</td>\n",
              "    </tr>\n",
              "    <tr>\n",
              "      <th>1</th>\n",
              "      <td>教父</td>\n",
              "      <td>Crime, Drama</td>\n",
              "      <td>175</td>\n",
              "      <td>1972</td>\n",
              "      <td>https://www.imdb.com//title/tt0068646/</td>\n",
              "    </tr>\n",
              "    <tr>\n",
              "      <th>2</th>\n",
              "      <td>黑暗騎士</td>\n",
              "      <td>Action, Crime, Drama</td>\n",
              "      <td>152</td>\n",
              "      <td>2008</td>\n",
              "      <td>https://www.imdb.com//title/tt0468569/</td>\n",
              "    </tr>\n",
              "    <tr>\n",
              "      <th>3</th>\n",
              "      <td>辛德勒的名單</td>\n",
              "      <td>Biography, Drama, History</td>\n",
              "      <td>195</td>\n",
              "      <td>1993</td>\n",
              "      <td>https://www.imdb.com//title/tt0108052/</td>\n",
              "    </tr>\n",
              "    <tr>\n",
              "      <th>4</th>\n",
              "      <td>魔戒三部曲：王者再臨</td>\n",
              "      <td>Action, Adventure, Drama</td>\n",
              "      <td>201</td>\n",
              "      <td>2003</td>\n",
              "      <td>https://www.imdb.com//title/tt0167260/</td>\n",
              "    </tr>\n",
              "    <tr>\n",
              "      <th>...</th>\n",
              "      <td>...</td>\n",
              "      <td>...</td>\n",
              "      <td>...</td>\n",
              "      <td>...</td>\n",
              "      <td>...</td>\n",
              "    </tr>\n",
              "    <tr>\n",
              "      <th>95</th>\n",
              "      <td>捍衛戰士：獨行俠</td>\n",
              "      <td>Action, Drama</td>\n",
              "      <td>130</td>\n",
              "      <td>2022</td>\n",
              "      <td>https://www.imdb.com//title/tt1745960/</td>\n",
              "    </tr>\n",
              "    <tr>\n",
              "      <th>96</th>\n",
              "      <td>心靈捕手</td>\n",
              "      <td>Drama, Romance</td>\n",
              "      <td>126</td>\n",
              "      <td>1997</td>\n",
              "      <td>https://www.imdb.com//title/tt0119217/</td>\n",
              "    </tr>\n",
              "    <tr>\n",
              "      <th>97</th>\n",
              "      <td>烈火悍將</td>\n",
              "      <td>Action, Crime, Drama</td>\n",
              "      <td>170</td>\n",
              "      <td>1995</td>\n",
              "      <td>https://www.imdb.com//title/tt0113277/</td>\n",
              "    </tr>\n",
              "    <tr>\n",
              "      <th>98</th>\n",
              "      <td>惡棍特工</td>\n",
              "      <td>Adventure, Drama, War</td>\n",
              "      <td>153</td>\n",
              "      <td>2009</td>\n",
              "      <td>https://www.imdb.com//title/tt0361748/</td>\n",
              "    </tr>\n",
              "    <tr>\n",
              "      <th>99</th>\n",
              "      <td>噩夢輓歌</td>\n",
              "      <td>Drama</td>\n",
              "      <td>102</td>\n",
              "      <td>2000</td>\n",
              "      <td>https://www.imdb.com//title/tt0180093/</td>\n",
              "    </tr>\n",
              "  </tbody>\n",
              "</table>\n",
              "<p>100 rows × 5 columns</p>\n",
              "</div>\n",
              "      <button class=\"colab-df-convert\" onclick=\"convertToInteractive('df-176c6d09-d1c0-49a9-a9e7-dcb86f02a303')\"\n",
              "              title=\"Convert this dataframe to an interactive table.\"\n",
              "              style=\"display:none;\">\n",
              "        \n",
              "  <svg xmlns=\"http://www.w3.org/2000/svg\" height=\"24px\"viewBox=\"0 0 24 24\"\n",
              "       width=\"24px\">\n",
              "    <path d=\"M0 0h24v24H0V0z\" fill=\"none\"/>\n",
              "    <path d=\"M18.56 5.44l.94 2.06.94-2.06 2.06-.94-2.06-.94-.94-2.06-.94 2.06-2.06.94zm-11 1L8.5 8.5l.94-2.06 2.06-.94-2.06-.94L8.5 2.5l-.94 2.06-2.06.94zm10 10l.94 2.06.94-2.06 2.06-.94-2.06-.94-.94-2.06-.94 2.06-2.06.94z\"/><path d=\"M17.41 7.96l-1.37-1.37c-.4-.4-.92-.59-1.43-.59-.52 0-1.04.2-1.43.59L10.3 9.45l-7.72 7.72c-.78.78-.78 2.05 0 2.83L4 21.41c.39.39.9.59 1.41.59.51 0 1.02-.2 1.41-.59l7.78-7.78 2.81-2.81c.8-.78.8-2.07 0-2.86zM5.41 20L4 18.59l7.72-7.72 1.47 1.35L5.41 20z\"/>\n",
              "  </svg>\n",
              "      </button>\n",
              "      \n",
              "  <style>\n",
              "    .colab-df-container {\n",
              "      display:flex;\n",
              "      flex-wrap:wrap;\n",
              "      gap: 12px;\n",
              "    }\n",
              "\n",
              "    .colab-df-convert {\n",
              "      background-color: #E8F0FE;\n",
              "      border: none;\n",
              "      border-radius: 50%;\n",
              "      cursor: pointer;\n",
              "      display: none;\n",
              "      fill: #1967D2;\n",
              "      height: 32px;\n",
              "      padding: 0 0 0 0;\n",
              "      width: 32px;\n",
              "    }\n",
              "\n",
              "    .colab-df-convert:hover {\n",
              "      background-color: #E2EBFA;\n",
              "      box-shadow: 0px 1px 2px rgba(60, 64, 67, 0.3), 0px 1px 3px 1px rgba(60, 64, 67, 0.15);\n",
              "      fill: #174EA6;\n",
              "    }\n",
              "\n",
              "    [theme=dark] .colab-df-convert {\n",
              "      background-color: #3B4455;\n",
              "      fill: #D2E3FC;\n",
              "    }\n",
              "\n",
              "    [theme=dark] .colab-df-convert:hover {\n",
              "      background-color: #434B5C;\n",
              "      box-shadow: 0px 1px 3px 1px rgba(0, 0, 0, 0.15);\n",
              "      filter: drop-shadow(0px 1px 2px rgba(0, 0, 0, 0.3));\n",
              "      fill: #FFFFFF;\n",
              "    }\n",
              "  </style>\n",
              "\n",
              "      <script>\n",
              "        const buttonEl =\n",
              "          document.querySelector('#df-176c6d09-d1c0-49a9-a9e7-dcb86f02a303 button.colab-df-convert');\n",
              "        buttonEl.style.display =\n",
              "          google.colab.kernel.accessAllowed ? 'block' : 'none';\n",
              "\n",
              "        async function convertToInteractive(key) {\n",
              "          const element = document.querySelector('#df-176c6d09-d1c0-49a9-a9e7-dcb86f02a303');\n",
              "          const dataTable =\n",
              "            await google.colab.kernel.invokeFunction('convertToInteractive',\n",
              "                                                     [key], {});\n",
              "          if (!dataTable) return;\n",
              "\n",
              "          const docLinkHtml = 'Like what you see? Visit the ' +\n",
              "            '<a target=\"_blank\" href=https://colab.research.google.com/notebooks/data_table.ipynb>data table notebook</a>'\n",
              "            + ' to learn more about interactive tables.';\n",
              "          element.innerHTML = '';\n",
              "          dataTable['output_type'] = 'display_data';\n",
              "          await google.colab.output.renderOutput(dataTable, element);\n",
              "          const docLink = document.createElement('div');\n",
              "          docLink.innerHTML = docLinkHtml;\n",
              "          element.appendChild(docLink);\n",
              "        }\n",
              "      </script>\n",
              "    </div>\n",
              "  </div>\n",
              "  "
            ],
            "text/plain": [
              "         title                      genre duration  year  \\\n",
              "0       刺激1995                      Drama      142  1994   \n",
              "1           教父               Crime, Drama      175  1972   \n",
              "2         黑暗騎士       Action, Crime, Drama      152  2008   \n",
              "3       辛德勒的名單  Biography, Drama, History      195  1993   \n",
              "4   魔戒三部曲：王者再臨   Action, Adventure, Drama      201  2003   \n",
              "..         ...                        ...      ...   ...   \n",
              "95    捍衛戰士：獨行俠              Action, Drama      130  2022   \n",
              "96        心靈捕手             Drama, Romance      126  1997   \n",
              "97        烈火悍將       Action, Crime, Drama      170  1995   \n",
              "98        惡棍特工      Adventure, Drama, War      153  2009   \n",
              "99        噩夢輓歌                      Drama      102  2000   \n",
              "\n",
              "                                       url  \n",
              "0   https://www.imdb.com//title/tt0111161/  \n",
              "1   https://www.imdb.com//title/tt0068646/  \n",
              "2   https://www.imdb.com//title/tt0468569/  \n",
              "3   https://www.imdb.com//title/tt0108052/  \n",
              "4   https://www.imdb.com//title/tt0167260/  \n",
              "..                                     ...  \n",
              "95  https://www.imdb.com//title/tt1745960/  \n",
              "96  https://www.imdb.com//title/tt0119217/  \n",
              "97  https://www.imdb.com//title/tt0113277/  \n",
              "98  https://www.imdb.com//title/tt0361748/  \n",
              "99  https://www.imdb.com//title/tt0180093/  \n",
              "\n",
              "[100 rows x 5 columns]"
            ]
          },
          "execution_count": 25,
          "metadata": {},
          "output_type": "execute_result"
        }
      ],
      "source": [
        "#duplicate the scraped movies dataframe, so we can modify it as we wish while the orignial dataframe is still intact.\n",
        "df1 = df.copy()\n",
        "df1"
      ]
    },
    {
      "cell_type": "code",
      "execution_count": null,
      "metadata": {
        "id": "Mav6dqjihtI9"
      },
      "outputs": [],
      "source": [
        "#@title Storing Scraped IMDB Movie Data in a CSV File.\n",
        "\n",
        "#remove the spaces from the genre column so that it will be aeasy to convert the column into a matrix dataframe. \n",
        "movies_mat = df1.genre = df1.genre.str.replace(' ', '')\n",
        "movies_mat.head()"
      ]
    },
    {
      "cell_type": "markdown",
      "metadata": {
        "id": "k4vMrSIOqbE_"
      },
      "source": [
        "This code removes the spaces from the genre column of the df DataFrame and assigns the resulting Series to a new variable called movies_mat. The str.replace() method is used to replace the spaces with an empty string.\n",
        "\n",
        "After executing this code, the movies_mat variable will contain a Series with the same data as the genre column of df, but with the spaces removed from the values.\n",
        "\n",
        "The head method is then used to print the first five rows of movies_mat. You can pass a different number as an argument to print a different number of rows. For example, movies_mat.head(10) would print the first ten rows of the Series."
      ]
    },
    {
      "cell_type": "code",
      "execution_count": null,
      "metadata": {
        "id": "1fAGf3nRiGTj"
      },
      "outputs": [],
      "source": [
        "#@title Preprocessing Movie Genre Data for Matrix Conversion\n",
        "\n",
        "#convert the genre column into matrix column using items that are seperated by a comma\n",
        "movies_mat = df1['genre'].str.get_dummies(sep=',')\n",
        "movies_mat.head()"
      ]
    },
    {
      "cell_type": "markdown",
      "metadata": {
        "id": "_CR4YJ0AqfBB"
      },
      "source": [
        "This code converts the genre column of the df DataFrame into a matrix of binary values using the str.get_dummies() method. The sep argument is used to specify the separator used to split the values in the genre column. In this case, the separator is a comma.\n",
        "\n",
        "After executing this code, the movies_mat variable will contain a new DataFrame with a separate column for each genre in the genre column of df. The values in these columns will be binary, with 1 indicating that the movie belongs to that genre and 0 indicating that it does not.\n",
        "\n",
        "The head method is then used to print the first five rows of movies_mat. You can pass a different number as an argument to print a different number of rows. For example, movies_mat.head(10) would print the first ten rows of the DataFrame."
      ]
    },
    {
      "cell_type": "code",
      "execution_count": null,
      "metadata": {
        "id": "JwnkdbHQiKj7"
      },
      "outputs": [],
      "source": [
        "#@title Converting Movie Genre Data into a Matrix Format.\n",
        "\n",
        "#combine the dataframe and the matrixes columns\n",
        "df1 = pd.concat([df1, movies_mat], axis = 1)\n",
        "df1.head()"
      ]
    },
    {
      "cell_type": "markdown",
      "metadata": {
        "id": "ZpOxngpsqyrE"
      },
      "source": [
        "This code combines the df DataFrame and the movies_mat DataFrame into a single DataFrame using the concat() function from the pandas library. The axis argument is set to 1 to indicate that the DataFrames should be concatenated vertically, with the rows of movies_mat being added to the bottom of the rows of df.\n",
        "\n",
        "After executing this code, the df1 variable will contain a new DataFrame that has all the columns of df and movies_mat. The genre column from df will be replaced by the binary genre columns from movies_mat.\n",
        "\n",
        "The head method is then used to print the first five rows of df1. You can pass a different number as an argument to print a different number of rows. For example, df1.head(10) would print the first ten rows of the DataFrame."
      ]
    },
    {
      "cell_type": "code",
      "execution_count": null,
      "metadata": {
        "id": "GpSyHDBei3EM"
      },
      "outputs": [],
      "source": [
        "#@title Converting Movie Genre Data into a Matrix Format\n",
        "#turn the duration column from object to numeric values \n",
        "df1['duration'] = pd.to_numeric(df1['duration'])\n",
        "#df1['year'] = pd.to_numeric(df1['year'])\n",
        "df1.info()"
      ]
    },
    {
      "cell_type": "markdown",
      "metadata": {
        "id": "PZOzOdkoq9_K"
      },
      "source": [
        "This code converts the duration column of the df1 DataFrame from an object data type to a numeric data type. It does this using the to_numeric() function from the pandas library.\n",
        "\n",
        "The info() method is then used to print information about the columns in the df1 DataFrame, including the data type of each column.\n",
        "\n",
        "Note that this code also includes a line that converts the year column to a numeric data type, but it is commented out (preceded by #) and will not be executed. If you want to convert the year column to a numeric data type, you can remove the # at the beginning of the line.\n",
        "\n",
        "After executing this code, the duration column of df1 will contain numeric values instead of strings. If you have also uncommented the line to convert the year column, it will also be converted to a numeric data type."
      ]
    },
    {
      "cell_type": "code",
      "execution_count": null,
      "metadata": {
        "id": "-GarW7p6jDS6"
      },
      "outputs": [],
      "source": [
        "#@title Combining Movie Data and Genre Matrix Columns\n",
        "import pandas as pd\n",
        "import re\n",
        "#extract the columns in year that contains non numeric numbers.\n",
        "non_numeric = re.compile(r'[^\\d.]+')\n",
        "\n",
        "df1.loc[df1['year'].str.contains(non_numeric)]\n"
      ]
    },
    {
      "cell_type": "markdown",
      "metadata": {
        "id": "WHHbV_69rI3B"
      },
      "source": [
        "This code uses the re (regular expression) module to define a regular expression pattern that matches any character that is not a digit or a period (.). The re.compile() function is used to create a compiled regular expression pattern object that can be used to match strings.\n",
        "\n",
        "The str.contains() method of the year column is then used to find rows in which the year column contains any characters that match the regular expression pattern. The resulting boolean Series is passed to the loc attribute to select the rows of df1 that match the pattern.\n",
        "\n",
        "The loc attribute is used to select rows and columns from a DataFrame based on their labels. In this case, it is used to select the rows of df1 that contain non-numeric characters in the year column.\n",
        "\n",
        "After executing this code, the resulting DataFrame will contain only the rows of df1 where the year column contains non-numeric characters. If there are no such rows, the resulting DataFrame will be empty."
      ]
    },
    {
      "cell_type": "code",
      "execution_count": null,
      "metadata": {
        "id": "0nVTlw85jKCY"
      },
      "outputs": [],
      "source": [
        "#@title Converting Movie Duration Column to Numeric Values\n",
        "#convert all non numeric numbers in year to 0.\n",
        "import pandas as pd\n",
        "def remove_nils(x):\n",
        "  if (x.isnumeric()):\n",
        "    return int(x)\n",
        "  else:\n",
        "    return 0\n",
        "df1[\"year\"] = df1[\"year\"].apply(remove_nils)\n",
        "df1.head()"
      ]
    },
    {
      "cell_type": "markdown",
      "metadata": {
        "id": "ZH9DYwV7rUol"
      },
      "source": [
        "This code defines a function remove_nils() that takes in a single argument x and returns x as an integer if it is numeric, or 0 if it is not numeric.\n",
        "\n",
        "The apply() method of the year column is then used to apply the remove_nils() function to each value in the year column. The resulting Series is assigned back to the year column of df1, effectively replacing the original values with their processed counterparts.\n",
        "\n",
        "After executing this code, the year column of df1 will contain only numeric values, with any non-numeric values replaced with 0. The resulting DataFrame is then printed using the head() method to show the first five rows."
      ]
    },
    {
      "cell_type": "code",
      "execution_count": null,
      "metadata": {
        "id": "rPsyA2EDjPzP"
      },
      "outputs": [],
      "source": [
        "#check number cell 59 to see if it has been conveted to numeric. it has been converted to 0.\n",
        "display(df1.iloc[59])"
      ]
    },
    {
      "cell_type": "code",
      "execution_count": null,
      "metadata": {
        "id": "DF6396oHSzRu"
      },
      "outputs": [],
      "source": [
        "import sqlite3\n",
        "import pandas as pd\n",
        "\n",
        "# Connect to the database\n",
        "conn = sqlite3.connect('cleaned_movies_data.db')\n",
        "\n",
        "# Save the dataframe to the database\n",
        "df1.to_sql('movies', conn, if_exists='replace', index=False)\n",
        "\n",
        "# Close the connection\n",
        "conn.close()\n"
      ]
    },
    {
      "cell_type": "markdown",
      "metadata": {
        "id": "k4W-jbf8rhYd"
      },
      "source": [
        "This code uses the display() function to print the 37th row of the df1 DataFrame. The iloc attribute is used to access the row by its index, and the resulting Series is printed to the console.\n",
        "\n",
        "If the year column of this row has been successfully converted to a numeric value, it will be displayed as such in the output. If it has been converted to 0, as specified in the previous code, it will be displayed as 0 in the output."
      ]
    },
    {
      "cell_type": "markdown",
      "metadata": {
        "id": "Y5eFleq9pBQ9"
      },
      "source": [
        "# ACCEPTING INPUT & GENERATING A RANDOM MOVIE"
      ]
    },
    {
      "cell_type": "markdown",
      "metadata": {
        "id": "Xc1nIRAVf8IT"
      },
      "source": []
    },
    {
      "cell_type": "code",
      "execution_count": null,
      "metadata": {
        "id": "8kmHGyEU65m3"
      },
      "outputs": [],
      "source": [
        "genre_set = set(df1['genre'])\n",
        "genre_list = list(genre_set)\n",
        "\n",
        "genre_list = [genre for genre in genre_set]\n",
        "\n",
        "print(genre_list)"
      ]
    },
    {
      "cell_type": "code",
      "execution_count": null,
      "metadata": {
        "id": "P17-1GflmDdo"
      },
      "outputs": [],
      "source": [
        "genre_set = set()\n",
        "for genre_string in df1['genre']:\n",
        "    genre_list = genre_string.split(',')\n",
        "    for genre in genre_list:\n",
        "        genre_set.add(genre.strip())\n",
        "print(genre_set)\n"
      ]
    },
    {
      "cell_type": "code",
      "execution_count": null,
      "metadata": {
        "id": "t-I4z-EmoUcu"
      },
      "outputs": [],
      "source": [
        "genre_list = list(genre_set)\n",
        "for i in range(0, len(genre_list), 10):\n",
        "  print(\", \".join(genre_list[i:i+10]))"
      ]
    },
    {
      "cell_type": "code",
      "execution_count": null,
      "metadata": {
        "id": "3HZ6egtas3-P"
      },
      "outputs": [],
      "source": [
        "df1.head()"
      ]
    },
    {
      "cell_type": "code",
      "execution_count": null,
      "metadata": {
        "id": "nsjngHW5UX3-"
      },
      "outputs": [],
      "source": [
        "print('genre_avialable =')\n",
        "genre_list = list(genre_set)\n",
        "for i in range(0, len(genre_list), 10):\n",
        "  print(\", \".join(genre_list[i:i+10]))\n",
        "\n",
        "#using the input function to accept the user preferred genre of the movie they want to watch\n",
        "select_genre = input(\"which genre do you want to watch?: \")\n",
        "\n",
        "#select a random genre\n",
        "filterm1 = df1.loc[df1[select_genre] == 1]\n",
        "filterm1"
      ]
    },
    {
      "cell_type": "code",
      "execution_count": null,
      "metadata": {
        "id": "aeHGL6-BDikM"
      },
      "outputs": [],
      "source": [
        "#using the input function to accept the user preferred genre, year of the movie they want to watch\n",
        "select_year = (input(\"classic or modern movies?: \"))\n",
        "\n",
        "#year categorized into mordern(released after the year 2000) and classic(released before the year 2000)\n",
        "if select_year == 'classic':\n",
        "  filterm1 = filterm1[filterm1['year'] >= 2000]\n",
        "elif select_year == 'mordern':\n",
        "  filterm1 = filterm1[filterm1['year'] <= 2000]\n",
        "else:\n",
        "  print('invalid input')\n"
      ]
    },
    {
      "cell_type": "code",
      "execution_count": null,
      "metadata": {
        "id": "BGVQ8IsID0HK"
      },
      "outputs": [],
      "source": [
        "#using the input function to accept the user preferred duration of the movie they want to watch\n",
        "select_duration = (input(\"short or long movies?: \"))\n",
        "\n",
        "#year categorized into long(movie length is greater than 2 hours) and short(movie length is less than 2 hours)\n",
        "if select_duration == 'long':\n",
        "  filterm1 = filterm1[filterm1['duration'] >= 120]\n",
        "elif select_duration == 'short':\n",
        "  filterm1 = filterm1[filterm1['duration'] <= 120]\n",
        "else:\n",
        "  print('invalid input')\n",
        "\n"
      ]
    },
    {
      "cell_type": "code",
      "execution_count": null,
      "metadata": {
        "id": "Lfrx0fAH08mG"
      },
      "outputs": [],
      "source": [
        "\n",
        "import random\n",
        "\n",
        "    \n",
        "#check if there is a movie available, if there is print the dataframe else, print \"no movie found\"\n",
        "if filterm1.empty:\n",
        "  print('No movie matches your input, please make another input!')\n",
        "else:\n",
        "  watch_movie=filterm1.sample()\n",
        "  watch_movie.head()"
      ]
    },
    {
      "cell_type": "code",
      "execution_count": null,
      "metadata": {
        "id": "Cwb70ieqii2u"
      },
      "outputs": [],
      "source": [
        "watch_movie.head()"
      ]
    },
    {
      "cell_type": "markdown",
      "metadata": {
        "id": "0d_gqipgrs3F"
      },
      "source": [
        "Please note that this code will only work if you have a dataframe named \"df1\" that has the following columns: \"title\", \"genre\", \"duration\", \"rating\", \"year\", \"certification\", \"url\", and the genre column has been converted into a matrix dataframe with each genre as a separate column.\n",
        "\n",
        "The code prompts the user to select a category, a year range (classic or modern), and a duration range (short or long). It filters the dataframe based on the user's selections, and then selects a random movie from the resulting dataframe using the .sample() function. If the resulting dataframe is empty, it will raise a SystemExit and print the message \"No movie matches your selection, please make another selection!\". You can remove this if you want the code to just return an empty dataframe instead."
      ]
    },
    {
      "cell_type": "code",
      "execution_count": null,
      "metadata": {
        "id": "vawqwhlvGv2_"
      },
      "outputs": [],
      "source": [
        "watch_movie_title = watch_movie['title']\n",
        "watch_movie_year = watch_movie['year']\n",
        "watch_movie_url = watch_movie['url']\n",
        "selected_movie_title = watch_movie['title'].iloc[0]"
      ]
    },
    {
      "cell_type": "markdown",
      "metadata": {
        "id": "08vnbl5asPOO"
      },
      "source": [
        "watch_movie_title = watch_movie['title']\n",
        "watch_movie_year = watch_movie['year']\n",
        "watch_movie_url = watch_movie['url']\n",
        "\n",
        "print(\"We recommend watching: \" + str(watch_movie_title) + \"(\" + str(watch_movie_year) + \")\" + \"\\n\" + \"You can find more information about this movie at the following url: \" + str(watch_movie_url))"
      ]
    },
    {
      "cell_type": "code",
      "execution_count": null,
      "metadata": {
        "id": "5zu_aGZv83xN"
      },
      "outputs": [],
      "source": [
        "# Convert the output to a string\n",
        "title_string = watch_movie_title.values.tolist()[0]\n",
        "\n",
        "# Print the resulting string\n",
        "#print(title_string)\n",
        "\n",
        "# Convert the output to a string\n",
        "year_string = watch_movie_year.values.tolist()[0]\n",
        "\n",
        "# Print the resulting string\n",
        "#print(year_string)\n",
        "\n",
        "# Extract the URL from the output\n",
        "url_string = watch_movie_url.values.tolist()[0]\n",
        "\n",
        "# Print the URL\n",
        "#print(url)\n",
        "\n",
        "\n",
        "print(f'you should watch {title_string}. Its a {year_string} movie. This is the url to the movie {url_string}')"
      ]
    },
    {
      "cell_type": "markdown",
      "metadata": {
        "id": "groCw-le1xTg"
      },
      "source": []
    },
    {
      "cell_type": "markdown",
      "metadata": {
        "id": "innO-J6Gx4aP"
      },
      "source": [
        "# **CONVERT THE GENRES INTO THEIR RESPECTIVE EMOTIONS...**\n",
        "\n",
        "\n",
        " here are the list of emotions we will be working with;\n",
        "\n",
        "* Love - Romance\n",
        "* Contentment - Comedy\n",
        "\n",
        "Excitement - Action\n",
        "Boredom - Documentary\n",
        "Curiosity - Mystery\n",
        "Disappointment - Tragedy\n",
        "Envy - Crime\n",
        "Guilt - Horror\n",
        "Hope - Fantasy\n",
        "Pride - War\n",
        "Relief - Animation\n",
        "Shame - Biography\n",
        "Skepticism - Science fiction\n",
        "Sorrow - History\n",
        "Suspense - Adventure\n",
        "Sad - Drama\n",
        "Disgust - Musical\n",
        "Anger - Family\n",
        "Anticipation - Thriller\n",
        "Fear - Sport\n",
        "Enjoyment - Thriller\n",
        "Trust - Western\n",
        "Surprise - Film-Noir\n",
        "\n"
      ]
    },
    {
      "cell_type": "code",
      "execution_count": null,
      "metadata": {
        "id": "Ok4rnp9Ax2Tc"
      },
      "outputs": [],
      "source": [
        "df2 = df1.copy()\n",
        "df2"
      ]
    },
    {
      "cell_type": "code",
      "execution_count": null,
      "metadata": {
        "id": "EglMuNko7VJr"
      },
      "outputs": [],
      "source": [
        "# Rename multiple columns at once\n",
        "\n",
        "df2.rename(columns={'Action': 'Excitement', 'Adventure': 'Suspense', 'Animation': 'Relief', 'Biography': 'Shame',\n",
        "           'Comedy': 'Enjoyment', 'Crime': 'Envy', 'Drama': 'Sad', 'Family': 'Anger', 'Fantasy': 'Hope',\n",
        "           'Film-Noir': 'Surprise', 'History': 'Sorrow', 'Horror': 'Guilt', 'Music': 'Disgust', 'Mystery': 'Curiosity',\n",
        "           'Romance': 'Trust', 'Sci-Fi': 'Skepticism', 'Thriller': 'Anticipation', 'War': 'Pride', 'Western': 'Rugged'}, inplace=True)"
      ]
    },
    {
      "cell_type": "code",
      "execution_count": null,
      "metadata": {
        "id": "FJhxqF3c0jQf"
      },
      "outputs": [],
      "source": [
        "df2.head()\n",
        "for column in df2.columns:\n",
        "    print(column)\n"
      ]
    },
    {
      "cell_type": "markdown",
      "metadata": {
        "id": "GHX9cRursp3d"
      },
      "source": [
        "It looks like the code is attempting to rename certain columns in the df1 DataFrame using a mapping of old column names to new column names. For example, the column named \"Action\" is being renamed to \"Excitement\", the column named \"Adventure\" is being renamed to \"Suspense\", and so on. The inplace=True argument specifies that the changes should be made in place, meaning that the original df1 DataFrame is being modified rather than creating a new DataFrame.\n",
        "\n",
        "After renaming the columns, the code is attempting to convert the 'year' column to datetime objects using the pd.to_datetime function. However, the column is already a numeric type, so this operation will likely not work. Finally, the code is attempting to change the values in the 'year' column to either 'classic' or 'mordern' depending on whether the value is less than or greater than 2000. It looks like this operation is not being applied correctly due to the use of the loc method on a numeric column."
      ]
    },
    {
      "cell_type": "markdown",
      "metadata": {
        "id": "U3GRiXrHd3hV"
      },
      "source": []
    },
    {
      "cell_type": "code",
      "execution_count": null,
      "metadata": {
        "id": "CsZ_5qhWpg_o"
      },
      "outputs": [],
      "source": [
        "binary_columns = []\n",
        "for col in df2.columns:\n",
        "  unique_values = df2[f'{col}'].nunique()\n",
        "  print(f'Column {col} has {unique_values} unique values')\n",
        "  \n",
        "\n",
        "  if unique_values is 2:\n",
        "    binary_columns.append(col)\n",
        "\n",
        "print(binary_columns)\n"
      ]
    },
    {
      "cell_type": "code",
      "execution_count": null,
      "metadata": {
        "id": "uVy70KtRtZMo"
      },
      "outputs": [],
      "source": [
        "print(binary_columns)"
      ]
    },
    {
      "cell_type": "code",
      "execution_count": null,
      "metadata": {
        "id": "8ZibUyUCNQHe"
      },
      "outputs": [],
      "source": [
        "print(f' list of emotions available {binary_columns}')\n",
        "#using the input function to accept the user preferred emotion of the movie they want to watch\n",
        "select_emotion = input(\"which emotion of the movie you want to watch?: \")\n",
        "\n",
        "\n",
        "#select a random genre\n",
        "filterm2 = df2.loc[df2[select_emotion] == 1]\n",
        "filterm2"
      ]
    },
    {
      "cell_type": "code",
      "execution_count": null,
      "metadata": {
        "id": "cl1vBMw0KQV2"
      },
      "outputs": [],
      "source": [
        "#using the input function to accept the user preferred emotion, year of the movie they want to watch\n",
        "select_year = (input(\"classic or modern movies?: \"))\n",
        "\n",
        "#year categorized into mordern(released after the year 2000) and classic(released before the year 2000)\n",
        "if select_year == 'classic':\n",
        "  filterm2 = filterm2[filterm2['year'] >= 2000]\n",
        "elif select_year == 'mordern':\n",
        "  filterm2 = filterm2[filterm2['year'] <= 2000]\n",
        "else:\n",
        "  print('invalid input enter a valid output \"classic\" or \"modern\"' )\n"
      ]
    },
    {
      "cell_type": "code",
      "execution_count": null,
      "metadata": {
        "id": "SyfU6FhxoCdM"
      },
      "outputs": [],
      "source": [
        "#using the input function to accept the user preferred duration of the movie they want to watch\n",
        "select_duration = (input(\"short or long movies?: \"))\n",
        "\n",
        "#year categorized into long(movie length is greater than 2 hours) and short(movie length is less than 2 hours)\n",
        "if select_duration == 'long':\n",
        "  filterm2 = filterm2[filterm2['duration'] >= 120]\n",
        "elif select_duration == 'short':\n",
        "  filterm2 = filterm2[filterm2['duration'] <= 120]\n",
        "else:\n",
        "  print('invalid input enter a valid output \"short\" or \"long\"')\n",
        "\n"
      ]
    },
    {
      "cell_type": "code",
      "execution_count": null,
      "metadata": {
        "id": "j4KJa3KIel-9"
      },
      "outputs": [],
      "source": [
        "\n",
        "import random\n",
        "\n",
        "    \n",
        "#check if there is a movie available, if there is print the dataframe else, print \"no movie found\"\n",
        "if filterm2.empty:\n",
        "  print('No movie matches your input, please make another input!')\n",
        "else:\n",
        "  watch_movie1=filterm2.sample()\n"
      ]
    },
    {
      "cell_type": "code",
      "execution_count": null,
      "metadata": {
        "id": "OA2qMGhReogk"
      },
      "outputs": [],
      "source": [
        "watch_movie1.head()"
      ]
    },
    {
      "cell_type": "code",
      "execution_count": null,
      "metadata": {
        "id": "TeVIYxbC2AxN"
      },
      "outputs": [],
      "source": [
        "watch_movie_title = watch_movie1['title']\n",
        "watch_movie_year = watch_movie1['year']\n",
        "watch_movie_url = watch_movie1['url']"
      ]
    },
    {
      "cell_type": "code",
      "execution_count": null,
      "metadata": {
        "id": "eqc7G0F11zZz"
      },
      "outputs": [],
      "source": [
        "# Convert the output to a string\n",
        "title_string = watch_movie_title.values.tolist()[0]\n",
        "\n",
        "# Print the resulting string\n",
        "\n",
        "\n",
        "# Convert the output to a string\n",
        "year_string = watch_movie_year.values.tolist()[0]\n",
        "\n",
        "# Print the resulting string\n",
        "\n",
        "\n",
        "# Extract the URL from the output\n",
        "url_string = watch_movie_url.values.tolist()[0]\n",
        "\n",
        "# Print the URL\n",
        "\n",
        "\n",
        "\n",
        "print(f\"you should watch the {title_string} it's a {year_string} movie. This is the url to the movie {url_string}\")"
      ]
    },
    {
      "cell_type": "code",
      "execution_count": null,
      "metadata": {
        "id": "gxkuQdKWh1Vw"
      },
      "outputs": [],
      "source": [
        "import sqlite3\n",
        "import pandas as pd\n",
        "\n",
        "# Connect to the database\n",
        "conn = sqlite3.connect('emotion_movies_data.db')\n",
        "\n",
        "# Save the dataframe to the database\n",
        "df2.to_sql('movies', conn, if_exists='replace', index=False)\n",
        "\n",
        "# Close the connection\n",
        "conn.close()"
      ]
    },
    {
      "cell_type": "markdown",
      "metadata": {
        "id": "gNmQZmwaf3tl"
      },
      "source": [
        "# PREPARE DATA FOR RECOMMENDATION ML MODEL"
      ]
    },
    {
      "cell_type": "code",
      "execution_count": null,
      "metadata": {
        "id": "Z_Ur3G3lgYj3"
      },
      "outputs": [],
      "source": [
        "df3=df2.copy()\n",
        "df3"
      ]
    },
    {
      "cell_type": "code",
      "execution_count": null,
      "metadata": {
        "id": "yzjW6lXfgrYH"
      },
      "outputs": [],
      "source": [
        "df3.dtypes"
      ]
    },
    {
      "cell_type": "code",
      "execution_count": null,
      "metadata": {
        "id": "ARQvvvlsOARF"
      },
      "outputs": [],
      "source": [
        "# Change the values in the 'year' column in place\n",
        "import numpy as np\n",
        "\n",
        "# Change the values in the 'year' column based on a condition\n",
        "df3['year'] = np.where(df3['year'] < 2000, 'classic', 'modern')"
      ]
    },
    {
      "cell_type": "markdown",
      "metadata": {
        "id": "DURjp4sDtshH"
      },
      "source": [
        "This code creates a new column in the DataFrame df3 called year. It uses the np.where() function to create this new column by applying a condition to the existing year column. If the value of the year column is less than 2000, it will be replaced with the string 'classic' in the new year column. If the value of the year column is not less than 2000, it will be replaced with the string 'modern' in the new year column. This results in a new year column with only two values: 'classic' or 'modern'."
      ]
    },
    {
      "cell_type": "code",
      "execution_count": null,
      "metadata": {
        "id": "u21uFkHDkGPQ"
      },
      "outputs": [],
      "source": [
        "import pandas as pd\n",
        "import matplotlib.pyplot as plt\n",
        "\n",
        "# Plot the 'year' column as a pie chart\n",
        "df3['year'].value_counts().plot.pie(figsize=(6, 6))\n",
        "\n",
        "# Show the plot\n",
        "plt.show()"
      ]
    },
    {
      "cell_type": "code",
      "execution_count": null,
      "metadata": {
        "id": "rJ_NlsczcLqb"
      },
      "outputs": [],
      "source": [
        "df3.head()"
      ]
    },
    {
      "cell_type": "code",
      "execution_count": null,
      "metadata": {
        "id": "fBK_a-4AdVcs"
      },
      "outputs": [],
      "source": [
        "# Change the values in the 'duration' column based on a condition if less than 200 then short, else long\n",
        "df3['duration'] = np.where(df3['duration'] < 120, 'short', 'long')"
      ]
    },
    {
      "cell_type": "markdown",
      "metadata": {
        "id": "ywTHvpLSt5S5"
      },
      "source": [
        "The code above changes the values in the 'duration' column in the DataFrame based on a condition. If the value in the 'duration' column is less than 120, the value is replaced with 'short', otherwise it is replaced with 'long'. This is done using the np.where() function from NumPy, which takes a condition as the first argument and two values as the second and third arguments. If the condition is true, the value in the second argument is used, otherwise the value in the third argument is used. In this case, the condition is df1['duration'] < 120, so if the value in the 'duration' column is less than 120, it is replaced with 'short', otherwise it is replaced with 'long'."
      ]
    },
    {
      "cell_type": "code",
      "execution_count": null,
      "metadata": {
        "id": "M0YNO2KpeJbu"
      },
      "outputs": [],
      "source": [
        "# Plot the 'year' column as a pie chart\n",
        "df3['duration'].value_counts().plot.pie(figsize=(6, 6))\n",
        "\n",
        "# Show the plot\n",
        "plt.show()"
      ]
    },
    {
      "cell_type": "code",
      "execution_count": null,
      "metadata": {
        "id": "sj8n3W3cdX67"
      },
      "outputs": [],
      "source": [
        "df3.head()"
      ]
    },
    {
      "cell_type": "code",
      "execution_count": null,
      "metadata": {
        "id": "FO9H3Xk9igTR"
      },
      "outputs": [],
      "source": [
        "df3.head()"
      ]
    },
    {
      "cell_type": "markdown",
      "metadata": {
        "id": "6Xdh2j3pwEub"
      },
      "source": [
        "This code will create a pie chart visualization of the data in the 'year' column of the df3 DataFrame. The pie chart will show the distribution of values in the 'year' column, with each value (e.g. \"modern\", \"classic\") represented as a slice of the pie. The size of each slice will be proportional to the number of occurrences of that value in the 'year' column. The figure size will be set to 6 inches by 6 inches. Finally, the plot will be displayed using the plt.show() function."
      ]
    },
    {
      "cell_type": "markdown",
      "metadata": {
        "id": "d5REBflywVDo"
      },
      "source": [
        "This code generates a pie chart that represents the distribution of the values in the 'duration' column of the DataFrame df1. The 'duration' column is first converted into a Pandas Series using the value_counts method, which counts the number of occurrences of each unique value in the Series. The resulting Series is then plotted as a pie chart using the plot.pie method and the figure size is set to (6, 6) using the figsize parameter. Finally, the show function from the matplotlib.pyplot library is called to display the plot."
      ]
    },
    {
      "cell_type": "code",
      "execution_count": null,
      "metadata": {
        "id": "zQlFVxdPNvgJ"
      },
      "outputs": [],
      "source": [
        "df3.drop(columns=['Excitement', 'Suspense', 'Relief', 'Shame', 'Enjoyment', 'Envy', 'Sad', 'Anger', 'Hope', 'Surprise', 'Sorrow', 'Guilt', 'Disgust', 'Curiosity', 'Trust', 'Skepticism', 'Anticipation', 'Pride', 'Trust', \n",
        "                  'Rugged'], inplace=True)\n",
        "df3"
      ]
    },
    {
      "cell_type": "code",
      "execution_count": null,
      "metadata": {
        "id": "WSKQR9dlN7Y3"
      },
      "outputs": [],
      "source": [
        "df3.drop(columns=['url'], inplace=True)\n",
        "df3"
      ]
    },
    {
      "cell_type": "code",
      "execution_count": null,
      "metadata": {
        "id": "lYYwKE5Qel-x"
      },
      "outputs": [],
      "source": [
        "for column in df3.columns:\n",
        "    print(column)"
      ]
    },
    {
      "cell_type": "code",
      "execution_count": null,
      "metadata": {
        "id": "aUOBL2lOiPb0"
      },
      "outputs": [],
      "source": [
        "import sqlite3\n",
        "import pandas as pd\n",
        "\n",
        "# Connect to the database\n",
        "conn = sqlite3.connect('prepare_movies_data.db')\n",
        "\n",
        "# Save the dataframe to the database\n",
        "df3.to_sql('movies', conn, if_exists='replace', index=False)\n",
        "\n",
        "# Close the connection\n",
        "conn.close()"
      ]
    },
    {
      "cell_type": "markdown",
      "metadata": {
        "id": "gicYBjhdjDle"
      },
      "source": [
        "# CREATING THE MODEL COSINE SIMILARITY"
      ]
    },
    {
      "cell_type": "code",
      "execution_count": null,
      "metadata": {
        "id": "0jaGiZ2iD2A1"
      },
      "outputs": [],
      "source": [
        "df4 = df3.copy()\n",
        "df4"
      ]
    },
    {
      "cell_type": "code",
      "execution_count": null,
      "metadata": {
        "id": "pyL-FZNijsaa"
      },
      "outputs": [],
      "source": [
        "# Split the 'genre' column on the comma and expand it into new columns\n",
        "df4[['genre1', 'genre2', 'genre3']] = df4['genre'].str.split(',', expand=True)\n",
        "\n",
        "\n",
        "df4"
      ]
    },
    {
      "cell_type": "code",
      "execution_count": null,
      "metadata": {
        "id": "LYvnPEeJXxWK"
      },
      "outputs": [],
      "source": [
        "import pandas as pd\n",
        "import numpy as np"
      ]
    },
    {
      "cell_type": "code",
      "execution_count": null,
      "metadata": {
        "id": "uIbWeLXbl_RE"
      },
      "outputs": [],
      "source": [
        "from sklearn.feature_extraction.text import CountVectorizer\n",
        "from sklearn.metrics.pairwise import cosine_similarity"
      ]
    },
    {
      "cell_type": "code",
      "execution_count": null,
      "metadata": {
        "id": "X_1748J0X-eX"
      },
      "outputs": [],
      "source": [
        "features = ['genre1', 'genre2', 'genre3', 'duration', 'year']\n",
        "features"
      ]
    },
    {
      "cell_type": "code",
      "execution_count": null,
      "metadata": {
        "id": "FxhoyF4Rcmjk"
      },
      "outputs": [],
      "source": [
        "for feature in features:\n",
        "    df4[feature] = df4[feature].fillna('')"
      ]
    },
    {
      "cell_type": "code",
      "execution_count": null,
      "metadata": {
        "id": "HWPEHZA2YhRm"
      },
      "outputs": [],
      "source": [
        "def combined_features(row):\n",
        "    return row['genre1']+\" \"+row['genre2']+\" \"+row['genre3']+\" \"+row['duration']+\" \"+row['year']\n"
      ]
    },
    {
      "cell_type": "code",
      "execution_count": null,
      "metadata": {
        "id": "B5Tae841ZIUp"
      },
      "outputs": [],
      "source": [
        "df4[\"combined_features\"] = df4.apply(combined_features, axis =1)"
      ]
    },
    {
      "cell_type": "code",
      "execution_count": null,
      "metadata": {
        "id": "n7Txq6p8mEEa"
      },
      "outputs": [],
      "source": [
        "#adding index column to the dataframe\n",
        "df4 = df4.reset_index()\n"
      ]
    },
    {
      "cell_type": "code",
      "execution_count": null,
      "metadata": {
        "id": "LRcyqGMXmEj2"
      },
      "outputs": [],
      "source": [
        "for columns in df4:\n",
        "  print(columns)"
      ]
    },
    {
      "cell_type": "code",
      "execution_count": null,
      "metadata": {
        "id": "1CRoGOwve3Xy"
      },
      "outputs": [],
      "source": [
        "cv = CountVectorizer()\n",
        "count_matrix = cv.fit_transform(df4[\"combined_features\"])\n",
        "print(\"Count Matrix:\", count_matrix.toarray())"
      ]
    },
    {
      "cell_type": "code",
      "execution_count": null,
      "metadata": {
        "id": "ch2OjPcNfa6y"
      },
      "outputs": [],
      "source": [
        "cosine_sim = cosine_similarity(count_matrix)"
      ]
    },
    {
      "cell_type": "code",
      "execution_count": null,
      "metadata": {
        "id": "RywlUVVYkHmD"
      },
      "outputs": [],
      "source": [
        "cosine_sim"
      ]
    },
    {
      "cell_type": "code",
      "execution_count": null,
      "metadata": {
        "id": "o4-xzQRAi9Ct"
      },
      "outputs": [],
      "source": [
        "import sqlite3\n",
        "import pandas as pd\n",
        "\n",
        "# Connect to the database\n",
        "conn = sqlite3.connect('model_movies_data.db')\n",
        "\n",
        "# Save the dataframe to the database\n",
        "df4.to_sql('movies', conn, if_exists='replace', index=False)\n",
        "\n",
        "# Close the connection\n",
        "conn.close()"
      ]
    },
    {
      "cell_type": "markdown",
      "metadata": {
        "id": "zCUV4rHDr1uA"
      },
      "source": [
        "# MAKING PREDICTIONS USING THE MODEL"
      ]
    },
    {
      "cell_type": "code",
      "execution_count": null,
      "metadata": {
        "id": "eHI6EP8ohBlE"
      },
      "outputs": [],
      "source": [
        "movie_user_likes = \"The Godfather\"\n",
        "def get_index_from_title(title):\n",
        "    return df4[df4.title == title]['index'].values[0]\n",
        "movie_index = get_index_from_title(movie_user_likes)"
      ]
    },
    {
      "cell_type": "code",
      "execution_count": null,
      "metadata": {
        "id": "bLZqCS_1-N0m"
      },
      "outputs": [],
      "source": [
        "\n",
        "def get_index_from_title(title):\n",
        "    return df4[df4.title == title]['index'].values[0]\n",
        "movie_index = get_index_from_title(movie_user_likes)"
      ]
    },
    {
      "cell_type": "code",
      "execution_count": null,
      "metadata": {
        "id": "fkmG9UcBnI77"
      },
      "outputs": [],
      "source": [
        "similar_movies = list(enumerate(cosine_sim[movie_index]))"
      ]
    },
    {
      "cell_type": "code",
      "execution_count": null,
      "metadata": {
        "id": "YiIiW6SxnvDi"
      },
      "outputs": [],
      "source": [
        "similar_movies"
      ]
    },
    {
      "cell_type": "code",
      "execution_count": null,
      "metadata": {
        "id": "Xd5HSEIttECB"
      },
      "outputs": [],
      "source": [
        "sorted_similar_movies = sorted(similar_movies, key=lambda x:x[1], reverse=True)"
      ]
    },
    {
      "cell_type": "code",
      "execution_count": null,
      "metadata": {
        "id": "So6a5_8mtHa8"
      },
      "outputs": [],
      "source": [
        "sorted_similar_movies"
      ]
    },
    {
      "cell_type": "code",
      "execution_count": null,
      "metadata": {
        "id": "aP-JFnq-3i1j"
      },
      "outputs": [],
      "source": [
        "def get_title_from_index(index):\n",
        "    return df4[df4.index == index][\"title\"].values[0]\n",
        "    \n",
        "i=0\n",
        "for movie in sorted_similar_movies:\n",
        "    print(get_title_from_index(movie[0]))\n",
        "    \n",
        "    i=i+1\n",
        "    if i>5:\n",
        "        break\n",
        "\n",
        "\n",
        "\n"
      ]
    },
    {
      "cell_type": "code",
      "execution_count": null,
      "metadata": {
        "id": "jB7PhSNyCckg"
      },
      "outputs": [],
      "source": [
        "def get_title_from_index(index):\n",
        "    return df4[df4.index == index][\"genre\"].values[0]\n",
        "\n",
        "\n",
        "i=0\n",
        "for movie in sorted_similar_movies:\n",
        "    print(get_title_from_index(movie[0]))\n",
        "    \n",
        "    i=i+1\n",
        "    if i>5:\n",
        "        break"
      ]
    },
    {
      "cell_type": "code",
      "execution_count": null,
      "metadata": {
        "id": "f1d_MuLdCd4-"
      },
      "outputs": [],
      "source": [
        "def get_title_from_index(index):\n",
        "    return df2[df2.index == index][\"duration\"].values[0]\n",
        "\n",
        "\n",
        "i=0\n",
        "for movie in sorted_similar_movies:\n",
        "    print(get_title_from_index(movie[0]))\n",
        "    \n",
        "    i=i+1\n",
        "    if i>5:\n",
        "        break"
      ]
    },
    {
      "cell_type": "code",
      "execution_count": null,
      "metadata": {
        "id": "59rbT7MDCl-A"
      },
      "outputs": [],
      "source": [
        "def get_title_from_index(index):\n",
        "    return df2[df2.index == index][\"year\"].values[0]\n",
        "\n",
        "\n",
        "i=0\n",
        "for movie in sorted_similar_movies:\n",
        "    print(get_title_from_index(movie[0]))\n",
        "    \n",
        "    i=i+1\n",
        "    if i>5:\n",
        "        break"
      ]
    },
    {
      "cell_type": "code",
      "execution_count": null,
      "metadata": {
        "id": "zvEeUH2Q-yN9"
      },
      "outputs": [],
      "source": [
        "\n",
        "\n",
        "i=0\n",
        "for movie in sorted_similar_movies:\n",
        "    print(get_title_from_index(movie[0]))\n",
        "    \n",
        "    i=i+1\n",
        "    if i>5:\n",
        "        break"
      ]
    },
    {
      "cell_type": "markdown",
      "metadata": {
        "id": "oOhNu4rNv0bW"
      },
      "source": [
        "# PUTTING THE MODEL TO TEST"
      ]
    },
    {
      "cell_type": "code",
      "execution_count": null,
      "metadata": {
        "id": "TKN-DmkgzVbr"
      },
      "outputs": [],
      "source": [
        "#select a random movie according to inputs\n",
        "import random\n",
        "import sys\n",
        "\n",
        "select_emotion = input(\"which emotion type- movie do you want to watch?: \")\n",
        "select_year = (input(\"Classic or modern movies?: \"))\n",
        "select_duration = (input(\"short or long movies?: \"))\n",
        "\n",
        "filterm3 = df2.loc[df2[select_emotion] == 1]\n",
        "filterm3"
      ]
    },
    {
      "cell_type": "code",
      "execution_count": null,
      "metadata": {
        "id": "7kVX-BDz1gbu"
      },
      "outputs": [],
      "source": [
        "#year categorized into mordern(released after the year 2000) and classic(released before the year 2000)\n",
        "if select_year == 'classic':\n",
        "  filterm3 = filterm3[df4['year'] == 'classic']\n",
        "elif select_year == 'modern':\n",
        "  filterm3 = filter3[df4['year'] == 'modern']\n",
        "else:\n",
        "  print('invalid input')\n",
        "filterm3"
      ]
    },
    {
      "cell_type": "code",
      "execution_count": null,
      "metadata": {
        "id": "XylwqAEH2bJp"
      },
      "outputs": [],
      "source": [
        "#year categorized into long(movie length is greater than 2 hours) and short(movie length is less than 2 hours)\n",
        "if select_duration == 'long':\n",
        "  filterm3 = filterm3[df4['duration'] == 'long']\n",
        "elif select_duration == 'short':\n",
        "  filterm3 = filterm3[df4['duration'] == 'short']\n",
        "else:\n",
        "  print('invalid input')\n",
        "\n",
        "filterm3\n",
        "\n",
        "if filterm3.empty:\n",
        "  print('No movie matches your input, please make another input!')\n",
        "else:\n",
        "  watch_movie2=filterm3.sample()\n",
        "  watch_movie2.head()"
      ]
    },
    {
      "cell_type": "code",
      "execution_count": null,
      "metadata": {
        "id": "RzZtrQf3UDyT"
      },
      "outputs": [],
      "source": [
        "watch_movie_title = watch_movie2['title']\n",
        "\n",
        "# Convert the output to a string\n",
        "title_string = watch_movie_title.values.tolist()[0]\n",
        "\n",
        "# Print the resulting string\n",
        "print(title_string)"
      ]
    },
    {
      "cell_type": "code",
      "execution_count": null,
      "metadata": {
        "id": "wbs1Os553MvQ"
      },
      "outputs": [],
      "source": [
        "df4"
      ]
    },
    {
      "cell_type": "code",
      "execution_count": null,
      "metadata": {
        "id": "_T5tIZibPEYF"
      },
      "outputs": [],
      "source": [
        "movie_user_likes = f\"{title_string}\"\n",
        "def get_index_from_title(title):\n",
        "    return df4[df4.title == title]['index'].values[0]\n",
        "movie_index = get_index_from_title(movie_user_likes)\n"
      ]
    },
    {
      "cell_type": "code",
      "execution_count": null,
      "metadata": {
        "id": "s-OPwftETOq8"
      },
      "outputs": [],
      "source": []
    },
    {
      "cell_type": "code",
      "execution_count": null,
      "metadata": {
        "id": "xBDy7zeLTR3i"
      },
      "outputs": [],
      "source": [
        "similar_movies = list(enumerate(cosine_sim[movie_index]))"
      ]
    },
    {
      "cell_type": "code",
      "execution_count": null,
      "metadata": {
        "id": "mlsJNpfVTVCn"
      },
      "outputs": [],
      "source": [
        "sorted_similar_movies = sorted(similar_movies, key=lambda x:x[1], reverse=True)"
      ]
    },
    {
      "cell_type": "code",
      "execution_count": null,
      "metadata": {
        "id": "1A1WAgCC8a7z"
      },
      "outputs": [],
      "source": []
    },
    {
      "cell_type": "code",
      "execution_count": null,
      "metadata": {
        "id": "VFXn9ac5TXeR"
      },
      "outputs": [],
      "source": [
        "def get_title_from_index(index):\n",
        "    return df4[df4.index == index][\"title\"].values[0]\n",
        "titles = []\n",
        "i=0\n",
        "for movie in sorted_similar_movies:\n",
        "    print(get_title_from_index(movie[0]))\n",
        "    title = get_title_from_index(movie[0])\n",
        "    titles.append(title)                           \n",
        "    \n",
        "    i=i+1\n",
        "    if i>5:\n",
        "        break\n"
      ]
    },
    {
      "cell_type": "code",
      "execution_count": null,
      "metadata": {
        "id": "lb6btbYG9bpQ"
      },
      "outputs": [],
      "source": [
        "print(titles)"
      ]
    },
    {
      "cell_type": "code",
      "execution_count": null,
      "metadata": {
        "id": "l9yjH9gN4-B-"
      },
      "outputs": [],
      "source": [
        "def get_title_from_index(index):\n",
        "    return df4[df4.index == index][\"genre\"].values[0]\n",
        "\n",
        "genres = []\n",
        "i=0\n",
        "for movie in sorted_similar_movies:\n",
        "    print(get_title_from_index(movie[0]))\n",
        "    genre = get_title_from_index(movie[0])\n",
        "    genres.append(genre) \n",
        "    \n",
        "    i=i+1\n",
        "    if i>5:\n",
        "        break"
      ]
    },
    {
      "cell_type": "code",
      "execution_count": null,
      "metadata": {
        "id": "AgJQHUMT9U4C"
      },
      "outputs": [],
      "source": [
        "print(genres)"
      ]
    },
    {
      "cell_type": "code",
      "execution_count": null,
      "metadata": {
        "id": "uxcZ5Zhc5ISI"
      },
      "outputs": [],
      "source": [
        "def get_title_from_index(index):\n",
        "    duration = df2[df2.index == index][\"duration\"].values[0]\n",
        "\n",
        "    #convert the duration time to hrs and mins\n",
        "    hours = duration // 60\n",
        "    minutes = duration % 60\n",
        "    return f\"{hours} hours {minutes} minutes\"\n",
        "runtimes = []\n",
        "\n",
        "i=0\n",
        "for movie in sorted_similar_movies:\n",
        "    print(get_title_from_index(movie[0]))\n",
        "    runtime = (get_title_from_index(movie[0]))\n",
        "    runtimes.append(runtime) \n",
        "    i=i+1\n",
        "    if i>5:\n",
        "        break"
      ]
    },
    {
      "cell_type": "code",
      "execution_count": null,
      "metadata": {
        "id": "gx4jRuQpAI80"
      },
      "outputs": [],
      "source": [
        "print(runtimes)"
      ]
    },
    {
      "cell_type": "code",
      "execution_count": null,
      "metadata": {
        "id": "YDQLZ7Hx5Owl"
      },
      "outputs": [],
      "source": [
        "def get_title_from_index(index):\n",
        "    return df4[df4.index == index][\"duration\"].values[0]\n",
        "\n",
        "lengths=[]\n",
        "i=0\n",
        "for movie in sorted_similar_movies:\n",
        "    print(get_title_from_index(movie[0]))\n",
        "    length=get_title_from_index(movie[0])\n",
        "    lengths.append(length)\n",
        "    \n",
        "    i=i+1\n",
        "    if i>5:\n",
        "        break"
      ]
    },
    {
      "cell_type": "code",
      "execution_count": null,
      "metadata": {
        "id": "CDgQ_FhiHI91"
      },
      "outputs": [],
      "source": [
        "print(lengths)"
      ]
    },
    {
      "cell_type": "code",
      "execution_count": null,
      "metadata": {
        "id": "QldfTvCv5wr-"
      },
      "outputs": [],
      "source": [
        "def get_title_from_index(index):\n",
        "    return df2[df2.index == index][\"year\"].values[0]\n",
        "years = []\n",
        "\n",
        "i=0\n",
        "for movie in sorted_similar_movies:\n",
        "    print(get_title_from_index(movie[0]))\n",
        "    year=get_title_from_index(movie[0])\n",
        "    years.append(year)\n",
        "    \n",
        "    i=i+1\n",
        "    if i>5:\n",
        "        break"
      ]
    },
    {
      "cell_type": "code",
      "execution_count": null,
      "metadata": {
        "id": "zyMwYfi7Hars"
      },
      "outputs": [],
      "source": [
        "print(years)"
      ]
    },
    {
      "cell_type": "code",
      "execution_count": null,
      "metadata": {
        "id": "5D2b9ACs50Xy"
      },
      "outputs": [],
      "source": [
        "def get_title_from_index(index):\n",
        "    return df4[df4.index == index][\"year\"].values[0]\n",
        "eras = []\n",
        "\n",
        "i=0\n",
        "for movie in sorted_similar_movies:\n",
        "    print(get_title_from_index(movie[0]))\n",
        "    era=get_title_from_index(movie[0])\n",
        "    eras.append(era)\n",
        "    \n",
        "    i=i+1\n",
        "    if i>5:\n",
        "        break"
      ]
    },
    {
      "cell_type": "code",
      "execution_count": null,
      "metadata": {
        "id": "WMytlftAIy1X"
      },
      "outputs": [],
      "source": [
        "print(eras)"
      ]
    },
    {
      "cell_type": "code",
      "execution_count": null,
      "metadata": {
        "id": "sPaLskPxJZTn"
      },
      "outputs": [],
      "source": [
        "def get_title_from_index(index):\n",
        "    return df2[df2.index == index][\"url\"].values[0]\n",
        "urls = []\n",
        "\n",
        "i=0\n",
        "for movie in sorted_similar_movies:\n",
        "    print(get_title_from_index(movie[0]))\n",
        "    url=get_title_from_index(movie[0])\n",
        "    urls.append(url)\n",
        "    \n",
        "    i=i+1\n",
        "    if i>5:\n",
        "        break"
      ]
    },
    {
      "cell_type": "code",
      "execution_count": null,
      "metadata": {
        "id": "81jGff_ULNl4"
      },
      "outputs": [],
      "source": [
        "import pandas as pd\n",
        "\n",
        "# Create a dictionary with the lists of data\n",
        "movie_data = data = {'titles': titles, 'genres': genres, 'runtimes': runtimes, 'lengths': lengths, 'years': years, 'eras': eras, 'url': urls}\n",
        "\n",
        "# Create the dataframe\n",
        "df5 = pd.DataFrame(movie_data)\n",
        "\n",
        "# Print the dataframe\n",
        "print(df5)"
      ]
    },
    {
      "cell_type": "code",
      "execution_count": null,
      "metadata": {
        "id": "Czphu-ePUAWU"
      },
      "outputs": [],
      "source": [
        "df5"
      ]
    },
    {
      "cell_type": "markdown",
      "metadata": {
        "id": "dcGBfzUxWi7E"
      },
      "source": [
        "# DISPLAY THE RESULTS"
      ]
    },
    {
      "cell_type": "code",
      "execution_count": null,
      "metadata": {
        "id": "KyMBQkYKWp8e"
      },
      "outputs": [],
      "source": [
        "!pip install streamlit"
      ]
    },
    {
      "cell_type": "code",
      "execution_count": null,
      "metadata": {
        "id": "1DlfXLTSXEFA"
      },
      "outputs": [],
      "source": [
        "import streamlit as st\n",
        "st.title('My App')\n",
        "st.write('Hello, World!')\n",
        "\n",
        "!streamlit run app.py"
      ]
    },
    {
      "cell_type": "code",
      "execution_count": null,
      "metadata": {
        "id": "24bOlS9eWWkj"
      },
      "outputs": [],
      "source": [
        "import streamlit as st\n",
        "\n",
        "# Display the dataframe in the Streamlit app\n",
        "st.title('My App')\n",
        "\n",
        "# Display the dataframe in the app\n",
        "st.dataframe(df5)"
      ]
    }
  ],
  "metadata": {
    "colab": {
      "provenance": [],
      "authorship_tag": "ABX9TyMA7IyeKptOmeGP2vylSl22",
      "include_colab_link": true
    },
    "gpuClass": "standard",
    "kernelspec": {
      "display_name": "Python 3",
      "name": "python3"
    },
    "language_info": {
      "name": "python"
    }
  },
  "nbformat": 4,
  "nbformat_minor": 0
}